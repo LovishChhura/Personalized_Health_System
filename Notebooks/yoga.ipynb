{
 "cells": [
  {
   "cell_type": "code",
   "execution_count": 1,
   "metadata": {},
   "outputs": [],
   "source": [
    "import pandas as pd\n",
    "import numpy as np"
   ]
  },
  {
   "cell_type": "code",
   "execution_count": 2,
   "metadata": {},
   "outputs": [],
   "source": [
    "df=pd.read_excel(\"https://docs.google.com/spreadsheets/d/e/2PACX-1vRXpxD_b2baRPO_82uKHRxEj43nsAFzF_YEE1qnFEQWSR-4l_-TZCCQewP3nqUJUjvd8CnI8W7ZtIM0/pub?output=xlsx\")"
   ]
  },
  {
   "cell_type": "code",
   "execution_count": 3,
   "metadata": {},
   "outputs": [
    {
     "data": {
      "text/plain": [
       "AID                         0\n",
       "AName                       0\n",
       "Description                 1\n",
       "Benefits                   11\n",
       "Contraindications          68\n",
       "Breathing                  38\n",
       "awareness                  40\n",
       "You tube Vdo link         224\n",
       "Photo                     226\n",
       "References                226\n",
       "Variations                175\n",
       "Level                      49\n",
       "Standing                    1\n",
       "Setting                     1\n",
       "Laying_on_Stomach_Pose      1\n",
       "Laying_on_Back              1\n",
       "Balancing                   1\n",
       "Eyes                        1\n",
       "English Pose                1\n",
       "Hindi Name                226\n",
       "dtype: int64"
      ]
     },
     "execution_count": 3,
     "metadata": {},
     "output_type": "execute_result"
    }
   ],
   "source": [
    "df.isna().sum()"
   ]
  },
  {
   "cell_type": "code",
   "execution_count": 4,
   "metadata": {},
   "outputs": [
    {
     "data": {
      "text/html": [
       "<div>\n",
       "<style scoped>\n",
       "    .dataframe tbody tr th:only-of-type {\n",
       "        vertical-align: middle;\n",
       "    }\n",
       "\n",
       "    .dataframe tbody tr th {\n",
       "        vertical-align: top;\n",
       "    }\n",
       "\n",
       "    .dataframe thead th {\n",
       "        text-align: right;\n",
       "    }\n",
       "</style>\n",
       "<table border=\"1\" class=\"dataframe\">\n",
       "  <thead>\n",
       "    <tr style=\"text-align: right;\">\n",
       "      <th></th>\n",
       "      <th>AID</th>\n",
       "      <th>AName</th>\n",
       "      <th>Description</th>\n",
       "      <th>Benefits</th>\n",
       "      <th>Contraindications</th>\n",
       "      <th>Breathing</th>\n",
       "      <th>awareness</th>\n",
       "      <th>You tube Vdo link</th>\n",
       "      <th>Photo</th>\n",
       "      <th>References</th>\n",
       "      <th>Variations</th>\n",
       "      <th>Level</th>\n",
       "      <th>Standing</th>\n",
       "      <th>Setting</th>\n",
       "      <th>Laying_on_Stomach_Pose</th>\n",
       "      <th>Laying_on_Back</th>\n",
       "      <th>Balancing</th>\n",
       "      <th>Eyes</th>\n",
       "      <th>English Pose</th>\n",
       "      <th>Hindi Name</th>\n",
       "    </tr>\n",
       "  </thead>\n",
       "  <tbody>\n",
       "    <tr>\n",
       "      <th>163</th>\n",
       "      <td>164</td>\n",
       "      <td>Pooma Dhanurasana (full bow pose)</td>\n",
       "      <td>NaN</td>\n",
       "      <td>NaN</td>\n",
       "      <td>NaN</td>\n",
       "      <td>NaN</td>\n",
       "      <td>NaN</td>\n",
       "      <td>NaN</td>\n",
       "      <td>NaN</td>\n",
       "      <td>NaN</td>\n",
       "      <td>NaN</td>\n",
       "      <td>Advanced</td>\n",
       "      <td>0.0</td>\n",
       "      <td>0.0</td>\n",
       "      <td>1.0</td>\n",
       "      <td>0.0</td>\n",
       "      <td>1.0</td>\n",
       "      <td>0.0</td>\n",
       "      <td>full bow pose</td>\n",
       "      <td>NaN</td>\n",
       "    </tr>\n",
       "  </tbody>\n",
       "</table>\n",
       "</div>"
      ],
      "text/plain": [
       "     AID                              AName Description Benefits  \\\n",
       "163  164  Pooma Dhanurasana (full bow pose)         NaN      NaN   \n",
       "\n",
       "    Contraindications Breathing awareness You tube Vdo link  Photo  \\\n",
       "163               NaN       NaN       NaN               NaN    NaN   \n",
       "\n",
       "     References Variations     Level  Standing  Setting   \\\n",
       "163         NaN        NaN  Advanced       0.0       0.0   \n",
       "\n",
       "     Laying_on_Stomach_Pose  Laying_on_Back  Balancing  Eyes   English Pose  \\\n",
       "163                     1.0             0.0        1.0   0.0  full bow pose   \n",
       "\n",
       "     Hindi Name  \n",
       "163         NaN  "
      ]
     },
     "execution_count": 4,
     "metadata": {},
     "output_type": "execute_result"
    }
   ],
   "source": [
    "df[df.Description.isna()]"
   ]
  },
  {
   "cell_type": "code",
   "execution_count": null,
   "metadata": {},
   "outputs": [],
   "source": []
  }
 ],
 "metadata": {
  "kernelspec": {
   "display_name": "Python 3",
   "language": "python",
   "name": "python3"
  },
  "language_info": {
   "codemirror_mode": {
    "name": "ipython",
    "version": 3
   },
   "file_extension": ".py",
   "mimetype": "text/x-python",
   "name": "python",
   "nbconvert_exporter": "python",
   "pygments_lexer": "ipython3",
   "version": "3.11.4"
  },
  "orig_nbformat": 4
 },
 "nbformat": 4,
 "nbformat_minor": 2
}
