{
 "cells": [
  {
   "cell_type": "code",
   "execution_count": 24,
   "metadata": {},
   "outputs": [],
   "source": [
    "import pandas as pd\n",
    "import numpy as np"
   ]
  },
  {
   "cell_type": "code",
   "execution_count": 25,
   "metadata": {},
   "outputs": [],
   "source": [
    "df=pd.read_excel(\"./final_asan1_1.xlsx\")"
   ]
  },
  {
   "cell_type": "code",
   "execution_count": 26,
   "metadata": {},
   "outputs": [
    {
     "data": {
      "text/plain": [
       "AID                         0\n",
       "AName                       0\n",
       "Description                 0\n",
       "Benefits                    0\n",
       "Contraindications          67\n",
       "Breathing                  38\n",
       "awareness                  40\n",
       "You tube Vdo link           4\n",
       "Photo                     226\n",
       "References                226\n",
       "Variations                175\n",
       "Level                      49\n",
       "Standing                    0\n",
       "Sitting                     0\n",
       "Laying_on_Stomach_Pose      0\n",
       "Laying_on_Back              0\n",
       "Balancing                   0\n",
       "Eyes                        0\n",
       "English Pose                0\n",
       "Hindi Name                226\n",
       "dtype: int64"
      ]
     },
     "execution_count": 26,
     "metadata": {},
     "output_type": "execute_result"
    }
   ],
   "source": [
    "df.isna().sum()"
   ]
  },
  {
   "cell_type": "code",
   "execution_count": 27,
   "metadata": {},
   "outputs": [
    {
     "data": {
      "text/plain": [
       "False"
      ]
     },
     "execution_count": 27,
     "metadata": {},
     "output_type": "execute_result"
    }
   ],
   "source": [
    "df.AName.duplicated().any()"
   ]
  },
  {
   "cell_type": "code",
   "execution_count": 28,
   "metadata": {},
   "outputs": [
    {
     "data": {
      "text/html": [
       "<div>\n",
       "<style scoped>\n",
       "    .dataframe tbody tr th:only-of-type {\n",
       "        vertical-align: middle;\n",
       "    }\n",
       "\n",
       "    .dataframe tbody tr th {\n",
       "        vertical-align: top;\n",
       "    }\n",
       "\n",
       "    .dataframe thead th {\n",
       "        text-align: right;\n",
       "    }\n",
       "</style>\n",
       "<table border=\"1\" class=\"dataframe\">\n",
       "  <thead>\n",
       "    <tr style=\"text-align: right;\">\n",
       "      <th></th>\n",
       "      <th>AID</th>\n",
       "      <th>AName</th>\n",
       "      <th>Description</th>\n",
       "      <th>Benefits</th>\n",
       "      <th>Contraindications</th>\n",
       "      <th>Breathing</th>\n",
       "      <th>awareness</th>\n",
       "      <th>You tube Vdo link</th>\n",
       "      <th>Photo</th>\n",
       "      <th>References</th>\n",
       "      <th>Variations</th>\n",
       "      <th>Level</th>\n",
       "      <th>Standing</th>\n",
       "      <th>Sitting</th>\n",
       "      <th>Laying_on_Stomach_Pose</th>\n",
       "      <th>Laying_on_Back</th>\n",
       "      <th>Balancing</th>\n",
       "      <th>Eyes</th>\n",
       "      <th>English Pose</th>\n",
       "      <th>Hindi Name</th>\n",
       "    </tr>\n",
       "  </thead>\n",
       "  <tbody>\n",
       "  </tbody>\n",
       "</table>\n",
       "</div>"
      ],
      "text/plain": [
       "Empty DataFrame\n",
       "Columns: [AID, AName, Description, Benefits, Contraindications, Breathing, awareness, You tube Vdo link, Photo, References, Variations, Level, Standing, Sitting , Laying_on_Stomach_Pose, Laying_on_Back, Balancing, Eyes, English Pose, Hindi Name]\n",
       "Index: []"
      ]
     },
     "execution_count": 28,
     "metadata": {},
     "output_type": "execute_result"
    }
   ],
   "source": [
    "df[df.Benefits.isna()]"
   ]
  },
  {
   "cell_type": "code",
   "execution_count": null,
   "metadata": {},
   "outputs": [],
   "source": []
  },
  {
   "cell_type": "code",
   "execution_count": null,
   "metadata": {},
   "outputs": [],
   "source": []
  }
 ],
 "metadata": {
  "kernelspec": {
   "display_name": "Python 3",
   "language": "python",
   "name": "python3"
  },
  "language_info": {
   "codemirror_mode": {
    "name": "ipython",
    "version": 3
   },
   "file_extension": ".py",
   "mimetype": "text/x-python",
   "name": "python",
   "nbconvert_exporter": "python",
   "pygments_lexer": "ipython3",
   "version": "3.11.4"
  },
  "orig_nbformat": 4
 },
 "nbformat": 4,
 "nbformat_minor": 2
}
