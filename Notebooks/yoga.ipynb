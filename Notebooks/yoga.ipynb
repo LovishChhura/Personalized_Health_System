{
 "cells": [
  {
   "cell_type": "code",
   "execution_count": 1,
   "metadata": {},
   "outputs": [],
   "source": [
    "import pandas as pd\n",
    "import numpy as np"
   ]
  },
  {
   "cell_type": "code",
   "execution_count": 2,
   "metadata": {},
   "outputs": [],
   "source": [
    "df=pd.read_excel(\"https://docs.google.com/spreadsheets/d/e/2PACX-1vRXpxD_b2baRPO_82uKHRxEj43nsAFzF_YEE1qnFEQWSR-4l_-TZCCQewP3nqUJUjvd8CnI8W7ZtIM0/pub?output=xlsx\")"
   ]
  },
  {
   "cell_type": "code",
   "execution_count": 3,
   "metadata": {},
   "outputs": [
    {
     "data": {
      "text/plain": [
       "AID                         0\n",
       "AName                       0\n",
       "Description                 0\n",
       "Benefits                    3\n",
       "Contraindications          67\n",
       "Breathing                  38\n",
       "awareness                  40\n",
       "You tube Vdo link         224\n",
       "Photo                     226\n",
       "References                226\n",
       "Variations                175\n",
       "Level                      49\n",
       "Standing                    0\n",
       "Sitting                     0\n",
       "Laying_on_Stomach_Pose      0\n",
       "Laying_on_Back              0\n",
       "Balancing                   0\n",
       "Eyes                        0\n",
       "English Pose                0\n",
       "Hindi Name                226\n",
       "dtype: int64"
      ]
     },
     "execution_count": 3,
     "metadata": {},
     "output_type": "execute_result"
    }
   ],
   "source": [
    "df.isna().sum()"
   ]
  },
  {
   "cell_type": "code",
   "execution_count": 4,
   "metadata": {},
   "outputs": [
    {
     "data": {
      "text/plain": [
       "False"
      ]
     },
     "execution_count": 4,
     "metadata": {},
     "output_type": "execute_result"
    }
   ],
   "source": [
    "df.AName.duplicated().any()"
   ]
  },
  {
   "cell_type": "code",
   "execution_count": 5,
   "metadata": {},
   "outputs": [
    {
     "data": {
      "text/html": [
       "<div>\n",
       "<style scoped>\n",
       "    .dataframe tbody tr th:only-of-type {\n",
       "        vertical-align: middle;\n",
       "    }\n",
       "\n",
       "    .dataframe tbody tr th {\n",
       "        vertical-align: top;\n",
       "    }\n",
       "\n",
       "    .dataframe thead th {\n",
       "        text-align: right;\n",
       "    }\n",
       "</style>\n",
       "<table border=\"1\" class=\"dataframe\">\n",
       "  <thead>\n",
       "    <tr style=\"text-align: right;\">\n",
       "      <th></th>\n",
       "      <th>AID</th>\n",
       "      <th>AName</th>\n",
       "      <th>Description</th>\n",
       "      <th>Benefits</th>\n",
       "      <th>Contraindications</th>\n",
       "      <th>Breathing</th>\n",
       "      <th>awareness</th>\n",
       "      <th>You tube Vdo link</th>\n",
       "      <th>Photo</th>\n",
       "      <th>References</th>\n",
       "      <th>Variations</th>\n",
       "      <th>Level</th>\n",
       "      <th>Standing</th>\n",
       "      <th>Sitting</th>\n",
       "      <th>Laying_on_Stomach_Pose</th>\n",
       "      <th>Laying_on_Back</th>\n",
       "      <th>Balancing</th>\n",
       "      <th>Eyes</th>\n",
       "      <th>English Pose</th>\n",
       "      <th>Hindi Name</th>\n",
       "    </tr>\n",
       "  </thead>\n",
       "  <tbody>\n",
       "    <tr>\n",
       "      <th>174</th>\n",
       "      <td>175</td>\n",
       "      <td>Padma Mayurasana (lotus or bound peacock pose)</td>\n",
       "      <td>Sit in padmasana. Stand on the knees and place...</td>\n",
       "      <td>NaN</td>\n",
       "      <td>: As for 1nayurasana. In addition, those with ...</td>\n",
       "      <td>NaN</td>\n",
       "      <td>NaN</td>\n",
       "      <td>NaN</td>\n",
       "      <td>NaN</td>\n",
       "      <td>NaN</td>\n",
       "      <td>NaN</td>\n",
       "      <td>NaN</td>\n",
       "      <td>0</td>\n",
       "      <td>1</td>\n",
       "      <td>0</td>\n",
       "      <td>0</td>\n",
       "      <td>1</td>\n",
       "      <td>0</td>\n",
       "      <td>lotus or bound peacock pose</td>\n",
       "      <td>NaN</td>\n",
       "    </tr>\n",
       "    <tr>\n",
       "      <th>181</th>\n",
       "      <td>182</td>\n",
       "      <td>Dwi Pada Sirasana (two feet to head pose)</td>\n",
       "      <td>Perform eka pada sirasana and relax. Stage 2 S...</td>\n",
       "      <td>NaN</td>\n",
       "      <td>NaN</td>\n",
       "      <td>Exhale while placing the second foot behind th...</td>\n",
       "      <td>NaN</td>\n",
       "      <td>NaN</td>\n",
       "      <td>NaN</td>\n",
       "      <td>NaN</td>\n",
       "      <td>NaN</td>\n",
       "      <td>NaN</td>\n",
       "      <td>0</td>\n",
       "      <td>1</td>\n",
       "      <td>0</td>\n",
       "      <td>0</td>\n",
       "      <td>1</td>\n",
       "      <td>0</td>\n",
       "      <td>two feet to head pose</td>\n",
       "      <td>NaN</td>\n",
       "    </tr>\n",
       "    <tr>\n",
       "      <th>188</th>\n",
       "      <td>189</td>\n",
       "      <td>SHEETKARI PRANAYAMA</td>\n",
       "      <td>Sit in any comfortable meditation posture.\\nCl...</td>\n",
       "      <td>NaN</td>\n",
       "      <td>As for sheetali pranayama. Practitioners\\nwith...</td>\n",
       "      <td>NaN</td>\n",
       "      <td>On the hissing sound and the cooling sensation...</td>\n",
       "      <td>NaN</td>\n",
       "      <td>NaN</td>\n",
       "      <td>NaN</td>\n",
       "      <td>Sheetali is derived from the root sheet, which...</td>\n",
       "      <td>NaN</td>\n",
       "      <td>0</td>\n",
       "      <td>1</td>\n",
       "      <td>0</td>\n",
       "      <td>0</td>\n",
       "      <td>0</td>\n",
       "      <td>0</td>\n",
       "      <td>Hissing Breath</td>\n",
       "      <td>NaN</td>\n",
       "    </tr>\n",
       "  </tbody>\n",
       "</table>\n",
       "</div>"
      ],
      "text/plain": [
       "     AID                                           AName  \\\n",
       "174  175  Padma Mayurasana (lotus or bound peacock pose)   \n",
       "181  182       Dwi Pada Sirasana (two feet to head pose)   \n",
       "188  189                             SHEETKARI PRANAYAMA   \n",
       "\n",
       "                                           Description Benefits  \\\n",
       "174  Sit in padmasana. Stand on the knees and place...      NaN   \n",
       "181  Perform eka pada sirasana and relax. Stage 2 S...      NaN   \n",
       "188  Sit in any comfortable meditation posture.\\nCl...      NaN   \n",
       "\n",
       "                                     Contraindications  \\\n",
       "174  : As for 1nayurasana. In addition, those with ...   \n",
       "181                                                NaN   \n",
       "188  As for sheetali pranayama. Practitioners\\nwith...   \n",
       "\n",
       "                                             Breathing  \\\n",
       "174                                                NaN   \n",
       "181  Exhale while placing the second foot behind th...   \n",
       "188                                                NaN   \n",
       "\n",
       "                                             awareness You tube Vdo link  \\\n",
       "174                                                NaN               NaN   \n",
       "181                                                NaN               NaN   \n",
       "188  On the hissing sound and the cooling sensation...               NaN   \n",
       "\n",
       "     Photo  References                                         Variations  \\\n",
       "174    NaN         NaN                                                NaN   \n",
       "181    NaN         NaN                                                NaN   \n",
       "188    NaN         NaN  Sheetali is derived from the root sheet, which...   \n",
       "\n",
       "    Level  Standing  Sitting   Laying_on_Stomach_Pose  Laying_on_Back  \\\n",
       "174   NaN         0         1                       0               0   \n",
       "181   NaN         0         1                       0               0   \n",
       "188   NaN         0         1                       0               0   \n",
       "\n",
       "     Balancing  Eyes                 English Pose  Hindi Name  \n",
       "174          1     0  lotus or bound peacock pose         NaN  \n",
       "181          1     0        two feet to head pose         NaN  \n",
       "188          0     0               Hissing Breath         NaN  "
      ]
     },
     "execution_count": 5,
     "metadata": {},
     "output_type": "execute_result"
    }
   ],
   "source": [
    "df[df.Benefits.isna()]"
   ]
  },
  {
   "cell_type": "code",
   "execution_count": null,
   "metadata": {},
   "outputs": [],
   "source": []
  },
  {
   "cell_type": "code",
   "execution_count": null,
   "metadata": {},
   "outputs": [],
   "source": []
  }
 ],
 "metadata": {
  "kernelspec": {
   "display_name": "Python 3",
   "language": "python",
   "name": "python3"
  },
  "language_info": {
   "codemirror_mode": {
    "name": "ipython",
    "version": 3
   },
   "file_extension": ".py",
   "mimetype": "text/x-python",
   "name": "python",
   "nbconvert_exporter": "python",
   "pygments_lexer": "ipython3",
   "version": "3.11.4"
  },
  "orig_nbformat": 4
 },
 "nbformat": 4,
 "nbformat_minor": 2
}
