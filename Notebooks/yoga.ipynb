{
 "cells": [
  {
   "cell_type": "code",
   "execution_count": 69,
   "metadata": {},
   "outputs": [],
   "source": [
    "import pandas as pd\n",
    "import numpy as np"
   ]
  },
  {
   "cell_type": "code",
   "execution_count": 70,
   "metadata": {},
   "outputs": [],
   "source": [
    "df=pd.read_excel(\"./final_asan1_1.xlsx\")"
   ]
  },
  {
   "cell_type": "code",
   "execution_count": 71,
   "metadata": {},
   "outputs": [
    {
     "data": {
      "text/plain": [
       "AID                         0\n",
       "AName                       0\n",
       "Description                 0\n",
       "Benefits                    0\n",
       "Contraindications          67\n",
       "Breathing                  38\n",
       "awareness                  40\n",
       "Youtube_Video_Link          0\n",
       "Photo                     226\n",
       "References                226\n",
       "Variations                175\n",
       "Level                       0\n",
       "Standing                    0\n",
       "Sitting                     0\n",
       "Laying_on_Stomach_Pose      0\n",
       "Laying_on_Back              0\n",
       "Balancing                   0\n",
       "Eyes                        0\n",
       "English Pose                0\n",
       "Hindi Name                226\n",
       "dtype: int64"
      ]
     },
     "execution_count": 71,
     "metadata": {},
     "output_type": "execute_result"
    }
   ],
   "source": [
    "df.isna().sum()"
   ]
  },
  {
   "cell_type": "code",
   "execution_count": 72,
   "metadata": {},
   "outputs": [
    {
     "data": {
      "text/plain": [
       "False"
      ]
     },
     "execution_count": 72,
     "metadata": {},
     "output_type": "execute_result"
    }
   ],
   "source": [
    "df.AName.duplicated().any()"
   ]
  },
  {
   "cell_type": "code",
   "execution_count": 73,
   "metadata": {},
   "outputs": [],
   "source": [
    "df['Level']=df['Level'].str.strip()"
   ]
  },
  {
   "cell_type": "code",
   "execution_count": 79,
   "metadata": {},
   "outputs": [
    {
     "data": {
      "text/html": [
       "<div>\n",
       "<style scoped>\n",
       "    .dataframe tbody tr th:only-of-type {\n",
       "        vertical-align: middle;\n",
       "    }\n",
       "\n",
       "    .dataframe tbody tr th {\n",
       "        vertical-align: top;\n",
       "    }\n",
       "\n",
       "    .dataframe thead th {\n",
       "        text-align: right;\n",
       "    }\n",
       "</style>\n",
       "<table border=\"1\" class=\"dataframe\">\n",
       "  <thead>\n",
       "    <tr style=\"text-align: right;\">\n",
       "      <th></th>\n",
       "      <th>AID</th>\n",
       "      <th>AName</th>\n",
       "      <th>Description</th>\n",
       "      <th>Benefits</th>\n",
       "      <th>Contraindications</th>\n",
       "      <th>Breathing</th>\n",
       "      <th>awareness</th>\n",
       "      <th>Youtube_Video_Link</th>\n",
       "      <th>Photo</th>\n",
       "      <th>References</th>\n",
       "      <th>Variations</th>\n",
       "      <th>Level</th>\n",
       "      <th>Standing</th>\n",
       "      <th>Sitting</th>\n",
       "      <th>Laying_on_Stomach_Pose</th>\n",
       "      <th>Laying_on_Back</th>\n",
       "      <th>Balancing</th>\n",
       "      <th>Eyes</th>\n",
       "      <th>English Pose</th>\n",
       "      <th>Hindi Name</th>\n",
       "    </tr>\n",
       "  </thead>\n",
       "  <tbody>\n",
       "    <tr>\n",
       "      <th>37</th>\n",
       "      <td>38</td>\n",
       "      <td>Front and Sideways Viewing (Eye Exercise)</td>\n",
       "      <td>Maintain the same body position as in exercise...</td>\n",
       "      <td>Front and sideways viewing improves coordinati...</td>\n",
       "      <td>Those who suffer from major eye diseases or di...</td>\n",
       "      <td>Inhale in the neutral position. Exhale while l...</td>\n",
       "      <td>NaN</td>\n",
       "      <td>https://www.youtube.com/shorts/6iRRYqGkq5U</td>\n",
       "      <td>NaN</td>\n",
       "      <td>NaN</td>\n",
       "      <td>NaN</td>\n",
       "      <td>Beginners</td>\n",
       "      <td>1</td>\n",
       "      <td>1</td>\n",
       "      <td>0</td>\n",
       "      <td>0</td>\n",
       "      <td>0</td>\n",
       "      <td>1</td>\n",
       "      <td>Front and Sideways Viewing (Eye Exercise)</td>\n",
       "      <td>NaN</td>\n",
       "    </tr>\n",
       "    <tr>\n",
       "      <th>76</th>\n",
       "      <td>77</td>\n",
       "      <td>MERU PRISHTHASANA</td>\n",
       "      <td>Stand erect with the feet shoulder width apart...</td>\n",
       "      <td>This asana stretches the spine, tones the back...</td>\n",
       "      <td>People with stiff backs or backache should avo...</td>\n",
       "      <td>: Inhale while raising the fingers to the shou...</td>\n",
       "      <td>NaN</td>\n",
       "      <td>https://www.youtube.com/watch?v=rOUD_33GwFM&amp;pp...</td>\n",
       "      <td>NaN</td>\n",
       "      <td>NaN</td>\n",
       "      <td>After twisting to the side, bend from the hips...</td>\n",
       "      <td>Beginners</td>\n",
       "      <td>1</td>\n",
       "      <td>0</td>\n",
       "      <td>0</td>\n",
       "      <td>0</td>\n",
       "      <td>0</td>\n",
       "      <td>0</td>\n",
       "      <td>the spine and back pose</td>\n",
       "      <td>NaN</td>\n",
       "    </tr>\n",
       "    <tr>\n",
       "      <th>34</th>\n",
       "      <td>35</td>\n",
       "      <td>Palming (Eye Exercise)</td>\n",
       "      <td>Sit quietly and close the eyes. Rub the paln1s...</td>\n",
       "      <td>Palming relaxes and revitalizes the eye muscle...</td>\n",
       "      <td>Those who suffer from major eye diseases or di...</td>\n",
       "      <td>NaN</td>\n",
       "      <td>NaN</td>\n",
       "      <td>https://www.youtube.com/shorts/6s0G-MKjTXw</td>\n",
       "      <td>NaN</td>\n",
       "      <td>NaN</td>\n",
       "      <td>The benefits are enhanced if the exercise is p...</td>\n",
       "      <td>Beginners</td>\n",
       "      <td>1</td>\n",
       "      <td>1</td>\n",
       "      <td>0</td>\n",
       "      <td>0</td>\n",
       "      <td>0</td>\n",
       "      <td>1</td>\n",
       "      <td>Palming</td>\n",
       "      <td>NaN</td>\n",
       "    </tr>\n",
       "    <tr>\n",
       "      <th>39</th>\n",
       "      <td>40</td>\n",
       "      <td>Rotational Viewing (Eye Viewing)</td>\n",
       "      <td>Maintain the same body position as in exercise...</td>\n",
       "      <td>Rotational viewing improves the coordinated ac...</td>\n",
       "      <td>Those who suffer from major eye diseases or di...</td>\n",
       "      <td>Inhale while completing the upper arc of the c...</td>\n",
       "      <td>NaN</td>\n",
       "      <td>https://www.youtube.com/shorts/6iRRYqGkq5U</td>\n",
       "      <td>NaN</td>\n",
       "      <td>NaN</td>\n",
       "      <td>NaN</td>\n",
       "      <td>Beginners</td>\n",
       "      <td>1</td>\n",
       "      <td>1</td>\n",
       "      <td>0</td>\n",
       "      <td>0</td>\n",
       "      <td>0</td>\n",
       "      <td>1</td>\n",
       "      <td>Rotational Viewing (Eye Viewing)</td>\n",
       "      <td>NaN</td>\n",
       "    </tr>\n",
       "    <tr>\n",
       "      <th>72</th>\n",
       "      <td>73</td>\n",
       "      <td>TADASANA</td>\n",
       "      <td>Stand with the feet together or about 10 em ap...</td>\n",
       "      <td>This asana develops physical and mental balanc...</td>\n",
       "      <td>NaN</td>\n",
       "      <td>Inhale while raising the arms, retain or breat...</td>\n",
       "      <td>: Physical - on the stretch of the whole body ...</td>\n",
       "      <td>https://www.youtube.com/watch?v=9eNMoDT2I-k&amp;pp...</td>\n",
       "      <td>NaN</td>\n",
       "      <td>NaN</td>\n",
       "      <td>Variation I: Tadasana may also be performed wh...</td>\n",
       "      <td>Beginners</td>\n",
       "      <td>1</td>\n",
       "      <td>0</td>\n",
       "      <td>0</td>\n",
       "      <td>0</td>\n",
       "      <td>0</td>\n",
       "      <td>0</td>\n",
       "      <td>Mountain pose</td>\n",
       "      <td>NaN</td>\n",
       "    </tr>\n",
       "  </tbody>\n",
       "</table>\n",
       "</div>"
      ],
      "text/plain": [
       "    AID                                      AName  \\\n",
       "37   38  Front and Sideways Viewing (Eye Exercise)   \n",
       "76   77                          MERU PRISHTHASANA   \n",
       "34   35                     Palming (Eye Exercise)   \n",
       "39   40           Rotational Viewing (Eye Viewing)   \n",
       "72   73                                   TADASANA   \n",
       "\n",
       "                                          Description  \\\n",
       "37  Maintain the same body position as in exercise...   \n",
       "76  Stand erect with the feet shoulder width apart...   \n",
       "34  Sit quietly and close the eyes. Rub the paln1s...   \n",
       "39  Maintain the same body position as in exercise...   \n",
       "72  Stand with the feet together or about 10 em ap...   \n",
       "\n",
       "                                             Benefits  \\\n",
       "37  Front and sideways viewing improves coordinati...   \n",
       "76  This asana stretches the spine, tones the back...   \n",
       "34  Palming relaxes and revitalizes the eye muscle...   \n",
       "39  Rotational viewing improves the coordinated ac...   \n",
       "72  This asana develops physical and mental balanc...   \n",
       "\n",
       "                                    Contraindications  \\\n",
       "37  Those who suffer from major eye diseases or di...   \n",
       "76  People with stiff backs or backache should avo...   \n",
       "34  Those who suffer from major eye diseases or di...   \n",
       "39  Those who suffer from major eye diseases or di...   \n",
       "72                                                NaN   \n",
       "\n",
       "                                            Breathing  \\\n",
       "37  Inhale in the neutral position. Exhale while l...   \n",
       "76  : Inhale while raising the fingers to the shou...   \n",
       "34                                                NaN   \n",
       "39  Inhale while completing the upper arc of the c...   \n",
       "72  Inhale while raising the arms, retain or breat...   \n",
       "\n",
       "                                            awareness  \\\n",
       "37                                                NaN   \n",
       "76                                                NaN   \n",
       "34                                                NaN   \n",
       "39                                                NaN   \n",
       "72  : Physical - on the stretch of the whole body ...   \n",
       "\n",
       "                                   Youtube_Video_Link  Photo  References  \\\n",
       "37         https://www.youtube.com/shorts/6iRRYqGkq5U    NaN         NaN   \n",
       "76  https://www.youtube.com/watch?v=rOUD_33GwFM&pp...    NaN         NaN   \n",
       "34         https://www.youtube.com/shorts/6s0G-MKjTXw    NaN         NaN   \n",
       "39         https://www.youtube.com/shorts/6iRRYqGkq5U    NaN         NaN   \n",
       "72  https://www.youtube.com/watch?v=9eNMoDT2I-k&pp...    NaN         NaN   \n",
       "\n",
       "                                           Variations      Level  Standing  \\\n",
       "37                                                NaN  Beginners         1   \n",
       "76  After twisting to the side, bend from the hips...  Beginners         1   \n",
       "34  The benefits are enhanced if the exercise is p...  Beginners         1   \n",
       "39                                                NaN  Beginners         1   \n",
       "72  Variation I: Tadasana may also be performed wh...  Beginners         1   \n",
       "\n",
       "    Sitting   Laying_on_Stomach_Pose  Laying_on_Back  Balancing  Eyes  \\\n",
       "37         1                       0               0          0     1   \n",
       "76         0                       0               0          0     0   \n",
       "34         1                       0               0          0     1   \n",
       "39         1                       0               0          0     1   \n",
       "72         0                       0               0          0     0   \n",
       "\n",
       "                                 English Pose  Hindi Name  \n",
       "37  Front and Sideways Viewing (Eye Exercise)         NaN  \n",
       "76                    the spine and back pose         NaN  \n",
       "34                                    Palming         NaN  \n",
       "39           Rotational Viewing (Eye Viewing)         NaN  \n",
       "72                              Mountain pose         NaN  "
      ]
     },
     "execution_count": 79,
     "metadata": {},
     "output_type": "execute_result"
    }
   ],
   "source": [
    "filtered_df=df[(df['Standing']==1) & (df['Level']=='Beginners')]\n",
    "num_random_rows = 5  # Adjust this number as needed\n",
    "\n",
    "# Get random rows from the filtered DataFrame\n",
    "random_rows = filtered_df.sample(n=num_random_rows)\n",
    "random_rows"
   ]
  },
  {
   "cell_type": "code",
   "execution_count": 75,
   "metadata": {},
   "outputs": [],
   "source": [
    "# random_rows.loc[84].to_list()"
   ]
  },
  {
   "cell_type": "code",
   "execution_count": 76,
   "metadata": {},
   "outputs": [],
   "source": [
    "# yogalist=[]\n",
    "# for i in random_rows.index:\n",
    "#     yogalist.append(random_rows.loc[i].to_list())"
   ]
  },
  {
   "cell_type": "code",
   "execution_count": 81,
   "metadata": {},
   "outputs": [],
   "source": [
    "yoglist=[random_rows.AName.to_list(),random_rows.Youtube_Video_Link\t.to_list()]"
   ]
  },
  {
   "cell_type": "code",
   "execution_count": 86,
   "metadata": {},
   "outputs": [],
   "source": [
    "yogdict={i:j for (i,j) in zip(random_rows.AName.to_list(),random_rows.Youtube_Video_Link.to_list())}"
   ]
  },
  {
   "cell_type": "code",
   "execution_count": 87,
   "metadata": {},
   "outputs": [
    {
     "data": {
      "text/plain": [
       "{'Front and Sideways Viewing (Eye Exercise)': 'https://www.youtube.com/shorts/6iRRYqGkq5U',\n",
       " 'MERU PRISHTHASANA': 'https://www.youtube.com/watch?v=rOUD_33GwFM&pp=ygURTUVSVSBQUklTSFRIQVNBTkE%3D',\n",
       " 'Palming (Eye Exercise)': 'https://www.youtube.com/shorts/6s0G-MKjTXw',\n",
       " 'Rotational Viewing (Eye Viewing)': 'https://www.youtube.com/shorts/6iRRYqGkq5U',\n",
       " 'TADASANA': 'https://www.youtube.com/watch?v=9eNMoDT2I-k&pp=ygUIVEFEQVNBTkE%3D'}"
      ]
     },
     "execution_count": 87,
     "metadata": {},
     "output_type": "execute_result"
    }
   ],
   "source": [
    "yogdict"
   ]
  },
  {
   "cell_type": "code",
   "execution_count": null,
   "metadata": {},
   "outputs": [],
   "source": []
  }
 ],
 "metadata": {
  "kernelspec": {
   "display_name": "Python 3",
   "language": "python",
   "name": "python3"
  },
  "language_info": {
   "codemirror_mode": {
    "name": "ipython",
    "version": 3
   },
   "file_extension": ".py",
   "mimetype": "text/x-python",
   "name": "python",
   "nbconvert_exporter": "python",
   "pygments_lexer": "ipython3",
   "version": "3.11.4"
  },
  "orig_nbformat": 4
 },
 "nbformat": 4,
 "nbformat_minor": 2
}
