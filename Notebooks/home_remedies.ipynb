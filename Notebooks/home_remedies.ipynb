{
 "cells": [
  {
   "cell_type": "code",
   "execution_count": 55,
   "metadata": {},
   "outputs": [],
   "source": [
    "import pandas as pd"
   ]
  },
  {
   "cell_type": "code",
   "execution_count": 56,
   "metadata": {},
   "outputs": [
    {
     "data": {
      "text/html": [
       "<div>\n",
       "<style scoped>\n",
       "    .dataframe tbody tr th:only-of-type {\n",
       "        vertical-align: middle;\n",
       "    }\n",
       "\n",
       "    .dataframe tbody tr th {\n",
       "        vertical-align: top;\n",
       "    }\n",
       "\n",
       "    .dataframe thead th {\n",
       "        text-align: right;\n",
       "    }\n",
       "</style>\n",
       "<table border=\"1\" class=\"dataframe\">\n",
       "  <thead>\n",
       "    <tr style=\"text-align: right;\">\n",
       "      <th></th>\n",
       "      <th>Sid</th>\n",
       "      <th>Name</th>\n",
       "      <th>Remedy1</th>\n",
       "      <th>Remedy1 Detail</th>\n",
       "      <th>Remedy2</th>\n",
       "      <th>Remedy2 Detail</th>\n",
       "      <th>Remedy3</th>\n",
       "      <th>Remedy3 Detail</th>\n",
       "      <th>Remedy4</th>\n",
       "      <th>Remedy4 Detail</th>\n",
       "      <th>Remedy5</th>\n",
       "      <th>Remedy5 Detail</th>\n",
       "    </tr>\n",
       "  </thead>\n",
       "  <tbody>\n",
       "    <tr>\n",
       "      <th>0</th>\n",
       "      <td>1</td>\n",
       "      <td>Common Cold</td>\n",
       "      <td>Ginger</td>\n",
       "      <td>Ginger has antioxidant, antimicrobial, and ant...</td>\n",
       "      <td>Honey</td>\n",
       "      <td>Honey has a variety of antibacterial and antim...</td>\n",
       "      <td>Garlic</td>\n",
       "      <td>Garlic contains the compound allicin, which ha...</td>\n",
       "      <td>Salt water gargle</td>\n",
       "      <td>Gargling with salt water may help preventTrust...</td>\n",
       "      <td>Saline Nasal Irrigation</td>\n",
       "      <td>Using a saline spray or a neti pot may help re...</td>\n",
       "    </tr>\n",
       "    <tr>\n",
       "      <th>1</th>\n",
       "      <td>2</td>\n",
       "      <td>Headache</td>\n",
       "      <td>Water</td>\n",
       "      <td>Dehydration is a common cause of headaches, s...</td>\n",
       "      <td>Peppermint Oil</td>\n",
       "      <td>Peppermint oil has anti-inflammatory and anal...</td>\n",
       "      <td>Massage</td>\n",
       "      <td>Massage can help release tension in the head, ...</td>\n",
       "      <td>Cold Compress</td>\n",
       "      <td>Applying a cold compress to the forehead or ne...</td>\n",
       "      <td>Rest in Quiet Room</td>\n",
       "      <td>Excessive stimulation from light and noise can...</td>\n",
       "    </tr>\n",
       "    <tr>\n",
       "      <th>2</th>\n",
       "      <td>3</td>\n",
       "      <td>Obesity</td>\n",
       "      <td>Cinnamon and Honey</td>\n",
       "      <td>Cinnamon and honey is a popular combination t...</td>\n",
       "      <td>Garlic</td>\n",
       "      <td>Raw garlic is a natural antibiotic that has b...</td>\n",
       "      <td>Lemon Water with Honey</td>\n",
       "      <td>Lemon water with honey is a refreshing and de...</td>\n",
       "      <td>Carom and Black Cumin seeds</td>\n",
       "      <td>Fenugreek seeds, carom seeds, and black cumin ...</td>\n",
       "      <td>Stop consuming artificial sugars</td>\n",
       "      <td>Artificial sugars are empty calories that can...</td>\n",
       "    </tr>\n",
       "    <tr>\n",
       "      <th>3</th>\n",
       "      <td>4</td>\n",
       "      <td>Kidney Stone</td>\n",
       "      <td>Basil Juice</td>\n",
       "      <td>Basil leaves are known for their diuretic pro...</td>\n",
       "      <td>Pomegranate Juice</td>\n",
       "      <td>Pomegranate juice is rich in antioxidants and...</td>\n",
       "      <td>Increase Water Intake</td>\n",
       "      <td>Staying hydrated is crucial for kidney stone p...</td>\n",
       "      <td>Lemon Juice</td>\n",
       "      <td>Lemon juice is a rich source of citric acid, ...</td>\n",
       "      <td>Apple Cider Vinegar</td>\n",
       "      <td>Apple cider vinegar has been traditionally use...</td>\n",
       "    </tr>\n",
       "    <tr>\n",
       "      <th>4</th>\n",
       "      <td>5</td>\n",
       "      <td>Stomach Pain</td>\n",
       "      <td>Mint</td>\n",
       "      <td>Mint is another herb with anti-inflammatory an...</td>\n",
       "      <td>Chamomile Tea</td>\n",
       "      <td>Chamomile tea is a calming herb that can help ...</td>\n",
       "      <td>Apple Cider Vinegar</td>\n",
       "      <td>Apple cider vinegar is a folk remedy for a var...</td>\n",
       "      <td>Ginger</td>\n",
       "      <td>Ginger has been used for centuries to treat st...</td>\n",
       "      <td>Heating Pad</td>\n",
       "      <td>Applying a heating pad or hot water bottle to ...</td>\n",
       "    </tr>\n",
       "  </tbody>\n",
       "</table>\n",
       "</div>"
      ],
      "text/plain": [
       "   Sid          Name             Remedy1  \\\n",
       "0    1   Common Cold              Ginger   \n",
       "1    2      Headache               Water   \n",
       "2    3       Obesity  Cinnamon and Honey   \n",
       "3    4  Kidney Stone         Basil Juice   \n",
       "4    5  Stomach Pain                Mint   \n",
       "\n",
       "                                      Remedy1 Detail            Remedy2  \\\n",
       "0  Ginger has antioxidant, antimicrobial, and ant...              Honey   \n",
       "1   Dehydration is a common cause of headaches, s...     Peppermint Oil   \n",
       "2   Cinnamon and honey is a popular combination t...             Garlic   \n",
       "3   Basil leaves are known for their diuretic pro...  Pomegranate Juice   \n",
       "4  Mint is another herb with anti-inflammatory an...      Chamomile Tea   \n",
       "\n",
       "                                      Remedy2 Detail                  Remedy3  \\\n",
       "0  Honey has a variety of antibacterial and antim...                   Garlic   \n",
       "1   Peppermint oil has anti-inflammatory and anal...                  Massage   \n",
       "2   Raw garlic is a natural antibiotic that has b...   Lemon Water with Honey   \n",
       "3   Pomegranate juice is rich in antioxidants and...    Increase Water Intake   \n",
       "4  Chamomile tea is a calming herb that can help ...      Apple Cider Vinegar   \n",
       "\n",
       "                                      Remedy3 Detail  \\\n",
       "0  Garlic contains the compound allicin, which ha...   \n",
       "1  Massage can help release tension in the head, ...   \n",
       "2   Lemon water with honey is a refreshing and de...   \n",
       "3  Staying hydrated is crucial for kidney stone p...   \n",
       "4  Apple cider vinegar is a folk remedy for a var...   \n",
       "\n",
       "                       Remedy4  \\\n",
       "0            Salt water gargle   \n",
       "1                Cold Compress   \n",
       "2  Carom and Black Cumin seeds   \n",
       "3                  Lemon Juice   \n",
       "4                       Ginger   \n",
       "\n",
       "                                      Remedy4 Detail  \\\n",
       "0  Gargling with salt water may help preventTrust...   \n",
       "1  Applying a cold compress to the forehead or ne...   \n",
       "2  Fenugreek seeds, carom seeds, and black cumin ...   \n",
       "3   Lemon juice is a rich source of citric acid, ...   \n",
       "4  Ginger has been used for centuries to treat st...   \n",
       "\n",
       "                            Remedy5  \\\n",
       "0           Saline Nasal Irrigation   \n",
       "1                Rest in Quiet Room   \n",
       "2  Stop consuming artificial sugars   \n",
       "3               Apple Cider Vinegar   \n",
       "4                       Heating Pad   \n",
       "\n",
       "                                      Remedy5 Detail  \n",
       "0  Using a saline spray or a neti pot may help re...  \n",
       "1  Excessive stimulation from light and noise can...  \n",
       "2   Artificial sugars are empty calories that can...  \n",
       "3  Apple cider vinegar has been traditionally use...  \n",
       "4  Applying a heating pad or hot water bottle to ...  "
      ]
     },
     "execution_count": 56,
     "metadata": {},
     "output_type": "execute_result"
    }
   ],
   "source": [
    "df=pd.read_excel('./PHS_home_remedies_data.xlsx')\n",
    "df.head()"
   ]
  },
  {
   "cell_type": "code",
   "execution_count": 57,
   "metadata": {},
   "outputs": [],
   "source": [
    "d=\"Headache\"\n",
    "ind=list(df[df['Name']==d].index)"
   ]
  },
  {
   "cell_type": "code",
   "execution_count": 58,
   "metadata": {},
   "outputs": [],
   "source": [
    "h_remlist=df[df['Name']==d].loc[ind[0]].to_list()\n",
    "remedyList=['Remedy1','Remedy1Detail','Remedy2','Remedy2Detail','Remedy3','Remedy3Detail','Remedy4','Remedy4Detail','Remedy5','Remedy5Detail']"
   ]
  },
  {
   "cell_type": "code",
   "execution_count": null,
   "metadata": {},
   "outputs": [],
   "source": []
  },
  {
   "cell_type": "code",
   "execution_count": 59,
   "metadata": {},
   "outputs": [],
   "source": [
    "h_remdict={'Remedy1':h_remlist[2],'Remedy1Detail':h_remlist[3],'Remedy2':h_remlist[4],'Remedy2Detail':h_remlist[5],'Remedy3':h_remlist[6],'Remedy3Detail':h_remlist[7],'Remedy4':h_remlist[8],'Remedy4Detail':h_remlist[9],'Remedy5':h_remlist[10],'Remedy5Detail':h_remlist[11]}"
   ]
  },
  {
   "cell_type": "code",
   "execution_count": 60,
   "metadata": {},
   "outputs": [
    {
     "data": {
      "text/plain": [
       "{'Remedy1': 'Water',\n",
       " 'Remedy1Detail': \" Dehydration is a common cause of headaches, so ensuring adequate water intake is crucial. Aim to drink eight glasses of water daily, more if you're exercising or sweating heavily. Keeping a reusable water bottle handy can help you stay hydrated throughout the day.\",\n",
       " 'Remedy2': 'Peppermint Oil',\n",
       " 'Remedy2Detail': ' Peppermint oil has anti-inflammatory and analgesic properties that can help soothe headache pain. Apply a few drops of peppermint oil diluted in a carrier oil, such as coconut oil, to the temples or forehead. Alternatively, diffuse peppermint oil using an essential oil diffuser.',\n",
       " 'Remedy3': 'Massage',\n",
       " 'Remedy3Detail': 'Massage can help release tension in the head, neck, and shoulders, which can contribute to headaches. Apply gentle pressure with your fingertips to the temples, forehead, scalp, and neck muscles. Massaging these areas can promote relaxation and improve blood circulation.',\n",
       " 'Remedy4': 'Cold Compress',\n",
       " 'Remedy4Detail': 'Applying a cold compress to the forehead or neck area can help constrict blood vessels and reduce inflammation, providing temporary relief from headache pain. Wrap an ice pack or frozen vegetables in a towel and apply it to the affected area for 15-20 minutes at a time.',\n",
       " 'Remedy5': 'Rest in Quiet Room',\n",
       " 'Remedy5Detail': 'Excessive stimulation from light and noise can worsen headache symptoms. Find a dark, quiet room where you can relax and let your body rest. Dimming the lights, turning off electronic devices, and using earplugs can create a more conducive environment for headache relief.'}"
      ]
     },
     "execution_count": 60,
     "metadata": {},
     "output_type": "execute_result"
    }
   ],
   "source": [
    "h_remdict"
   ]
  },
  {
   "cell_type": "code",
   "execution_count": null,
   "metadata": {},
   "outputs": [],
   "source": []
  }
 ],
 "metadata": {
  "kernelspec": {
   "display_name": "Python 3",
   "language": "python",
   "name": "python3"
  },
  "language_info": {
   "codemirror_mode": {
    "name": "ipython",
    "version": 3
   },
   "file_extension": ".py",
   "mimetype": "text/x-python",
   "name": "python",
   "nbconvert_exporter": "python",
   "pygments_lexer": "ipython3",
   "version": "3.11.4"
  }
 },
 "nbformat": 4,
 "nbformat_minor": 2
}
