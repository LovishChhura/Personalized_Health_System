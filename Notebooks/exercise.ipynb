{
 "cells": [
  {
   "cell_type": "markdown",
   "metadata": {},
   "source": [
    "### Exercise Notebook"
   ]
  },
  {
   "cell_type": "markdown",
   "metadata": {},
   "source": [
    "- imports"
   ]
  },
  {
   "cell_type": "code",
   "execution_count": 1,
   "metadata": {},
   "outputs": [],
   "source": [
    "import pandas as pd\n",
    "import numpy as np"
   ]
  },
  {
   "cell_type": "code",
   "execution_count": 2,
   "metadata": {},
   "outputs": [
    {
     "data": {
      "text/html": [
       "<div>\n",
       "<style scoped>\n",
       "    .dataframe tbody tr th:only-of-type {\n",
       "        vertical-align: middle;\n",
       "    }\n",
       "\n",
       "    .dataframe tbody tr th {\n",
       "        vertical-align: top;\n",
       "    }\n",
       "\n",
       "    .dataframe thead th {\n",
       "        text-align: right;\n",
       "    }\n",
       "</style>\n",
       "<table border=\"1\" class=\"dataframe\">\n",
       "  <thead>\n",
       "    <tr style=\"text-align: right;\">\n",
       "      <th></th>\n",
       "      <th>Exercise</th>\n",
       "      <th>Chest</th>\n",
       "      <th>Bicep</th>\n",
       "      <th>Tricep</th>\n",
       "      <th>Shoulder</th>\n",
       "      <th>Back</th>\n",
       "      <th>Leg</th>\n",
       "      <th>Gym</th>\n",
       "      <th>Home</th>\n",
       "      <th>Beginner</th>\n",
       "      <th>Advanced</th>\n",
       "      <th>Links</th>\n",
       "    </tr>\n",
       "  </thead>\n",
       "  <tbody>\n",
       "    <tr>\n",
       "      <th>0</th>\n",
       "      <td>Bench Press</td>\n",
       "      <td>1</td>\n",
       "      <td>0</td>\n",
       "      <td>1</td>\n",
       "      <td>0</td>\n",
       "      <td>0</td>\n",
       "      <td>0</td>\n",
       "      <td>1</td>\n",
       "      <td>0</td>\n",
       "      <td>1</td>\n",
       "      <td>0</td>\n",
       "      <td>https://www.youtube.com/watch?v=0cXAp6WhSj4&amp;ab...</td>\n",
       "    </tr>\n",
       "    <tr>\n",
       "      <th>1</th>\n",
       "      <td>Leg Press</td>\n",
       "      <td>0</td>\n",
       "      <td>0</td>\n",
       "      <td>0</td>\n",
       "      <td>0</td>\n",
       "      <td>0</td>\n",
       "      <td>1</td>\n",
       "      <td>1</td>\n",
       "      <td>0</td>\n",
       "      <td>1</td>\n",
       "      <td>0</td>\n",
       "      <td>https://www.youtube.com/watch?v=VFk3RzndUEc</td>\n",
       "    </tr>\n",
       "    <tr>\n",
       "      <th>2</th>\n",
       "      <td>Peck Deck</td>\n",
       "      <td>1</td>\n",
       "      <td>0</td>\n",
       "      <td>1</td>\n",
       "      <td>0</td>\n",
       "      <td>1</td>\n",
       "      <td>0</td>\n",
       "      <td>1</td>\n",
       "      <td>0</td>\n",
       "      <td>1</td>\n",
       "      <td>0</td>\n",
       "      <td>https://www.youtube.com/shorts/fgXSA2-o0NM</td>\n",
       "    </tr>\n",
       "    <tr>\n",
       "      <th>3</th>\n",
       "      <td>Push-Up</td>\n",
       "      <td>1</td>\n",
       "      <td>0</td>\n",
       "      <td>1</td>\n",
       "      <td>0</td>\n",
       "      <td>1</td>\n",
       "      <td>0</td>\n",
       "      <td>1</td>\n",
       "      <td>1</td>\n",
       "      <td>1</td>\n",
       "      <td>0</td>\n",
       "      <td>https://www.youtube.com/shorts/ba8tr1NzwXU</td>\n",
       "    </tr>\n",
       "    <tr>\n",
       "      <th>4</th>\n",
       "      <td>Cable Press</td>\n",
       "      <td>1</td>\n",
       "      <td>0</td>\n",
       "      <td>1</td>\n",
       "      <td>0</td>\n",
       "      <td>1</td>\n",
       "      <td>0</td>\n",
       "      <td>1</td>\n",
       "      <td>0</td>\n",
       "      <td>0</td>\n",
       "      <td>1</td>\n",
       "      <td>https://www.youtube.com/watch?v=FVWJglwid4I&amp;pp...</td>\n",
       "    </tr>\n",
       "  </tbody>\n",
       "</table>\n",
       "</div>"
      ],
      "text/plain": [
       "      Exercise  Chest  Bicep  Tricep  Shoulder  Back  Leg  Gym  Home  \\\n",
       "0  Bench Press      1      0       1         0     0    0    1     0   \n",
       "1    Leg Press      0      0       0         0     0    1    1     0   \n",
       "2    Peck Deck      1      0       1         0     1    0    1     0   \n",
       "3      Push-Up      1      0       1         0     1    0    1     1   \n",
       "4  Cable Press      1      0       1         0     1    0    1     0   \n",
       "\n",
       "   Beginner  Advanced                                              Links  \n",
       "0         1         0  https://www.youtube.com/watch?v=0cXAp6WhSj4&ab...  \n",
       "1         1         0        https://www.youtube.com/watch?v=VFk3RzndUEc  \n",
       "2         1         0         https://www.youtube.com/shorts/fgXSA2-o0NM  \n",
       "3         1         0         https://www.youtube.com/shorts/ba8tr1NzwXU  \n",
       "4         0         1  https://www.youtube.com/watch?v=FVWJglwid4I&pp...  "
      ]
     },
     "execution_count": 2,
     "metadata": {},
     "output_type": "execute_result"
    }
   ],
   "source": [
    "df=pd.read_excel(\"./PHS_exercise_data.xlsx\")\n",
    "df.head()"
   ]
  },
  {
   "cell_type": "code",
   "execution_count": 3,
   "metadata": {},
   "outputs": [
    {
     "data": {
      "text/plain": [
       "False"
      ]
     },
     "execution_count": 3,
     "metadata": {},
     "output_type": "execute_result"
    }
   ],
   "source": [
    "df.Exercise.duplicated().any()"
   ]
  },
  {
   "cell_type": "code",
   "execution_count": 4,
   "metadata": {},
   "outputs": [],
   "source": [
    "target_category = 'Chest'\n",
    "level= 'Beginner'"
   ]
  },
  {
   "cell_type": "code",
   "execution_count": 5,
   "metadata": {},
   "outputs": [],
   "source": [
    "# Filter the DataFrame to get rows where the specified column matches the target category\n",
    "filtered_df = df[(df[target_category] == 1) & (df[level] == 1)]\n",
    "\n",
    "# Specify the number of random rows you want to select\n",
    "num_random_rows = 5  # Adjust this number as needed\n",
    "\n",
    "# Get random rows from the filtered DataFrame\n",
    "random_rows = filtered_df.sample(n=num_random_rows)"
   ]
  },
  {
   "cell_type": "code",
   "execution_count": 6,
   "metadata": {},
   "outputs": [
    {
     "data": {
      "text/html": [
       "<div>\n",
       "<style scoped>\n",
       "    .dataframe tbody tr th:only-of-type {\n",
       "        vertical-align: middle;\n",
       "    }\n",
       "\n",
       "    .dataframe tbody tr th {\n",
       "        vertical-align: top;\n",
       "    }\n",
       "\n",
       "    .dataframe thead th {\n",
       "        text-align: right;\n",
       "    }\n",
       "</style>\n",
       "<table border=\"1\" class=\"dataframe\">\n",
       "  <thead>\n",
       "    <tr style=\"text-align: right;\">\n",
       "      <th></th>\n",
       "      <th>Exercise</th>\n",
       "      <th>Chest</th>\n",
       "      <th>Bicep</th>\n",
       "      <th>Tricep</th>\n",
       "      <th>Shoulder</th>\n",
       "      <th>Back</th>\n",
       "      <th>Leg</th>\n",
       "      <th>Gym</th>\n",
       "      <th>Home</th>\n",
       "      <th>Beginner</th>\n",
       "      <th>Advanced</th>\n",
       "      <th>Links</th>\n",
       "    </tr>\n",
       "  </thead>\n",
       "  <tbody>\n",
       "    <tr>\n",
       "      <th>28</th>\n",
       "      <td>Dumbbell Chest Fly</td>\n",
       "      <td>1</td>\n",
       "      <td>0</td>\n",
       "      <td>0</td>\n",
       "      <td>0</td>\n",
       "      <td>0</td>\n",
       "      <td>0</td>\n",
       "      <td>1</td>\n",
       "      <td>0</td>\n",
       "      <td>1</td>\n",
       "      <td>1</td>\n",
       "      <td>https://www.youtube.com/shorts/vJh-4hRLH-o</td>\n",
       "    </tr>\n",
       "    <tr>\n",
       "      <th>26</th>\n",
       "      <td>Close-Grip Feet-Up Bench Press</td>\n",
       "      <td>1</td>\n",
       "      <td>0</td>\n",
       "      <td>0</td>\n",
       "      <td>0</td>\n",
       "      <td>0</td>\n",
       "      <td>0</td>\n",
       "      <td>1</td>\n",
       "      <td>0</td>\n",
       "      <td>1</td>\n",
       "      <td>1</td>\n",
       "      <td>https://www.youtube.com/shorts/u1hsw-PG9rY</td>\n",
       "    </tr>\n",
       "    <tr>\n",
       "      <th>39</th>\n",
       "      <td>Kneeling Push-Up</td>\n",
       "      <td>1</td>\n",
       "      <td>0</td>\n",
       "      <td>0</td>\n",
       "      <td>0</td>\n",
       "      <td>0</td>\n",
       "      <td>0</td>\n",
       "      <td>1</td>\n",
       "      <td>0</td>\n",
       "      <td>1</td>\n",
       "      <td>1</td>\n",
       "      <td>https://www.youtube.com/watch?v=utzhPQuXWcA&amp;pp...</td>\n",
       "    </tr>\n",
       "    <tr>\n",
       "      <th>46</th>\n",
       "      <td>Standing Cable Chest Fly</td>\n",
       "      <td>1</td>\n",
       "      <td>0</td>\n",
       "      <td>0</td>\n",
       "      <td>0</td>\n",
       "      <td>0</td>\n",
       "      <td>0</td>\n",
       "      <td>1</td>\n",
       "      <td>0</td>\n",
       "      <td>1</td>\n",
       "      <td>1</td>\n",
       "      <td>https://www.youtube.com/watch?v=PRw7ieDBLl4&amp;pp...</td>\n",
       "    </tr>\n",
       "    <tr>\n",
       "      <th>34</th>\n",
       "      <td>Floor Press</td>\n",
       "      <td>1</td>\n",
       "      <td>0</td>\n",
       "      <td>0</td>\n",
       "      <td>0</td>\n",
       "      <td>0</td>\n",
       "      <td>0</td>\n",
       "      <td>1</td>\n",
       "      <td>0</td>\n",
       "      <td>1</td>\n",
       "      <td>1</td>\n",
       "      <td>https://www.youtube.com/watch?v=uUGDRwge4F8&amp;pp...</td>\n",
       "    </tr>\n",
       "  </tbody>\n",
       "</table>\n",
       "</div>"
      ],
      "text/plain": [
       "                          Exercise  Chest  Bicep  Tricep  Shoulder  Back  Leg  \\\n",
       "28              Dumbbell Chest Fly      1      0       0         0     0    0   \n",
       "26  Close-Grip Feet-Up Bench Press      1      0       0         0     0    0   \n",
       "39                Kneeling Push-Up      1      0       0         0     0    0   \n",
       "46        Standing Cable Chest Fly      1      0       0         0     0    0   \n",
       "34                     Floor Press      1      0       0         0     0    0   \n",
       "\n",
       "    Gym  Home  Beginner  Advanced  \\\n",
       "28    1     0         1         1   \n",
       "26    1     0         1         1   \n",
       "39    1     0         1         1   \n",
       "46    1     0         1         1   \n",
       "34    1     0         1         1   \n",
       "\n",
       "                                                Links  \n",
       "28         https://www.youtube.com/shorts/vJh-4hRLH-o  \n",
       "26         https://www.youtube.com/shorts/u1hsw-PG9rY  \n",
       "39  https://www.youtube.com/watch?v=utzhPQuXWcA&pp...  \n",
       "46  https://www.youtube.com/watch?v=PRw7ieDBLl4&pp...  \n",
       "34  https://www.youtube.com/watch?v=uUGDRwge4F8&pp...  "
      ]
     },
     "execution_count": 6,
     "metadata": {},
     "output_type": "execute_result"
    }
   ],
   "source": [
    "random_rows"
   ]
  },
  {
   "cell_type": "code",
   "execution_count": 8,
   "metadata": {},
   "outputs": [
    {
     "data": {
      "text/plain": [
       "[['Dumbbell Chest Fly',\n",
       "  'Close-Grip Feet-Up Bench Press',\n",
       "  'Kneeling Push-Up',\n",
       "  'Standing Cable Chest Fly',\n",
       "  'Floor Press'],\n",
       " ['https://www.youtube.com/shorts/vJh-4hRLH-o',\n",
       "  'https://www.youtube.com/shorts/u1hsw-PG9rY',\n",
       "  'https://www.youtube.com/watch?v=utzhPQuXWcA&pp=ygUZS25lZWxpbmcgUHVzaC1VcCB0dXRvcmlhbA%3D%3D',\n",
       "  'https://www.youtube.com/watch?v=PRw7ieDBLl4&pp=ygUYU3RhbmRpbmcgQ2FibGUgQ2hlc3QgRmx5',\n",
       "  'https://www.youtube.com/watch?v=uUGDRwge4F8&pp=ygUURmxvb3IgUHJlc3MgdHV0b3JpYWw%3D']]"
      ]
     },
     "execution_count": 8,
     "metadata": {},
     "output_type": "execute_result"
    }
   ],
   "source": [
    "exerList=[random_rows.Exercise.to_list(),random_rows.Links.to_list()]\n",
    "# random_rows.Exercise.to_list()\n",
    "exerList"
   ]
  },
  {
   "cell_type": "code",
   "execution_count": 9,
   "metadata": {},
   "outputs": [],
   "source": [
    "exerdict={i:j for (i,j) in zip(random_rows.Exercise.to_list(),random_rows.Links.to_list())}"
   ]
  },
  {
   "cell_type": "code",
   "execution_count": 10,
   "metadata": {},
   "outputs": [
    {
     "data": {
      "text/plain": [
       "{'Dumbbell Chest Fly': 'https://www.youtube.com/shorts/vJh-4hRLH-o',\n",
       " 'Close-Grip Feet-Up Bench Press': 'https://www.youtube.com/shorts/u1hsw-PG9rY',\n",
       " 'Kneeling Push-Up': 'https://www.youtube.com/watch?v=utzhPQuXWcA&pp=ygUZS25lZWxpbmcgUHVzaC1VcCB0dXRvcmlhbA%3D%3D',\n",
       " 'Standing Cable Chest Fly': 'https://www.youtube.com/watch?v=PRw7ieDBLl4&pp=ygUYU3RhbmRpbmcgQ2FibGUgQ2hlc3QgRmx5',\n",
       " 'Floor Press': 'https://www.youtube.com/watch?v=uUGDRwge4F8&pp=ygUURmxvb3IgUHJlc3MgdHV0b3JpYWw%3D'}"
      ]
     },
     "execution_count": 10,
     "metadata": {},
     "output_type": "execute_result"
    }
   ],
   "source": [
    "exerdict"
   ]
  },
  {
   "cell_type": "code",
   "execution_count": null,
   "metadata": {},
   "outputs": [],
   "source": []
  }
 ],
 "metadata": {
  "kernelspec": {
   "display_name": "Python 3",
   "language": "python",
   "name": "python3"
  },
  "language_info": {
   "codemirror_mode": {
    "name": "ipython",
    "version": 3
   },
   "file_extension": ".py",
   "mimetype": "text/x-python",
   "name": "python",
   "nbconvert_exporter": "python",
   "pygments_lexer": "ipython3",
   "version": "3.11.4"
  },
  "orig_nbformat": 4
 },
 "nbformat": 4,
 "nbformat_minor": 2
}
