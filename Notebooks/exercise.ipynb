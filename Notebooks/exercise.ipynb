{
 "cells": [
  {
   "cell_type": "markdown",
   "metadata": {},
   "source": [
    "### Exercise Notebook"
   ]
  },
  {
   "cell_type": "markdown",
   "metadata": {},
   "source": [
    "- imports"
   ]
  },
  {
   "cell_type": "code",
   "execution_count": 62,
   "metadata": {},
   "outputs": [],
   "source": [
    "import pandas as pd\n",
    "import numpy as np"
   ]
  },
  {
   "cell_type": "code",
   "execution_count": 63,
   "metadata": {},
   "outputs": [
    {
     "data": {
      "text/html": [
       "<div>\n",
       "<style scoped>\n",
       "    .dataframe tbody tr th:only-of-type {\n",
       "        vertical-align: middle;\n",
       "    }\n",
       "\n",
       "    .dataframe tbody tr th {\n",
       "        vertical-align: top;\n",
       "    }\n",
       "\n",
       "    .dataframe thead th {\n",
       "        text-align: right;\n",
       "    }\n",
       "</style>\n",
       "<table border=\"1\" class=\"dataframe\">\n",
       "  <thead>\n",
       "    <tr style=\"text-align: right;\">\n",
       "      <th></th>\n",
       "      <th>Exercise</th>\n",
       "      <th>chest</th>\n",
       "      <th>biceps</th>\n",
       "      <th>triceps</th>\n",
       "      <th>shoulders</th>\n",
       "      <th>back</th>\n",
       "      <th>leg</th>\n",
       "      <th>Gym</th>\n",
       "      <th>Home</th>\n",
       "      <th>Beginner</th>\n",
       "      <th>Advanced</th>\n",
       "      <th>Links</th>\n",
       "    </tr>\n",
       "  </thead>\n",
       "  <tbody>\n",
       "    <tr>\n",
       "      <th>0</th>\n",
       "      <td>Bench Press</td>\n",
       "      <td>1</td>\n",
       "      <td>0</td>\n",
       "      <td>1</td>\n",
       "      <td>0</td>\n",
       "      <td>0</td>\n",
       "      <td>0</td>\n",
       "      <td>1</td>\n",
       "      <td>0</td>\n",
       "      <td>1</td>\n",
       "      <td>0</td>\n",
       "      <td>https://www.youtube.com/watch?v=0cXAp6WhSj4&amp;ab...</td>\n",
       "    </tr>\n",
       "    <tr>\n",
       "      <th>1</th>\n",
       "      <td>Leg Press</td>\n",
       "      <td>0</td>\n",
       "      <td>0</td>\n",
       "      <td>0</td>\n",
       "      <td>0</td>\n",
       "      <td>0</td>\n",
       "      <td>1</td>\n",
       "      <td>1</td>\n",
       "      <td>0</td>\n",
       "      <td>1</td>\n",
       "      <td>0</td>\n",
       "      <td>https://www.youtube.com/watch?v=VFk3RzndUEc</td>\n",
       "    </tr>\n",
       "    <tr>\n",
       "      <th>2</th>\n",
       "      <td>Peck Deck</td>\n",
       "      <td>1</td>\n",
       "      <td>0</td>\n",
       "      <td>1</td>\n",
       "      <td>0</td>\n",
       "      <td>1</td>\n",
       "      <td>0</td>\n",
       "      <td>1</td>\n",
       "      <td>0</td>\n",
       "      <td>1</td>\n",
       "      <td>0</td>\n",
       "      <td>https://www.youtube.com/shorts/fgXSA2-o0NM</td>\n",
       "    </tr>\n",
       "    <tr>\n",
       "      <th>3</th>\n",
       "      <td>Push-Up</td>\n",
       "      <td>1</td>\n",
       "      <td>0</td>\n",
       "      <td>1</td>\n",
       "      <td>0</td>\n",
       "      <td>1</td>\n",
       "      <td>0</td>\n",
       "      <td>1</td>\n",
       "      <td>1</td>\n",
       "      <td>1</td>\n",
       "      <td>0</td>\n",
       "      <td>https://www.youtube.com/shorts/ba8tr1NzwXU</td>\n",
       "    </tr>\n",
       "    <tr>\n",
       "      <th>4</th>\n",
       "      <td>Cable Press</td>\n",
       "      <td>1</td>\n",
       "      <td>0</td>\n",
       "      <td>1</td>\n",
       "      <td>0</td>\n",
       "      <td>1</td>\n",
       "      <td>0</td>\n",
       "      <td>1</td>\n",
       "      <td>0</td>\n",
       "      <td>0</td>\n",
       "      <td>1</td>\n",
       "      <td>https://www.youtube.com/watch?v=FVWJglwid4I&amp;pp...</td>\n",
       "    </tr>\n",
       "  </tbody>\n",
       "</table>\n",
       "</div>"
      ],
      "text/plain": [
       "      Exercise  chest  biceps  triceps  shoulders  back  leg  Gym  Home  \\\n",
       "0  Bench Press      1       0        1          0     0    0    1     0   \n",
       "1    Leg Press      0       0        0          0     0    1    1     0   \n",
       "2    Peck Deck      1       0        1          0     1    0    1     0   \n",
       "3      Push-Up      1       0        1          0     1    0    1     1   \n",
       "4  Cable Press      1       0        1          0     1    0    1     0   \n",
       "\n",
       "   Beginner  Advanced                                              Links  \n",
       "0         1         0  https://www.youtube.com/watch?v=0cXAp6WhSj4&ab...  \n",
       "1         1         0        https://www.youtube.com/watch?v=VFk3RzndUEc  \n",
       "2         1         0         https://www.youtube.com/shorts/fgXSA2-o0NM  \n",
       "3         1         0         https://www.youtube.com/shorts/ba8tr1NzwXU  \n",
       "4         0         1  https://www.youtube.com/watch?v=FVWJglwid4I&pp...  "
      ]
     },
     "execution_count": 63,
     "metadata": {},
     "output_type": "execute_result"
    }
   ],
   "source": [
    "df=pd.read_excel(\"./PHS_exercise_data.xlsx\")\n",
    "df.head()"
   ]
  },
  {
   "cell_type": "code",
   "execution_count": 64,
   "metadata": {},
   "outputs": [
    {
     "data": {
      "text/plain": [
       "False"
      ]
     },
     "execution_count": 64,
     "metadata": {},
     "output_type": "execute_result"
    }
   ],
   "source": [
    "df.Exercise.duplicated().any()"
   ]
  },
  {
   "cell_type": "code",
   "execution_count": 65,
   "metadata": {},
   "outputs": [],
   "source": [
    "target_category = 'chest'\n",
    "level= 'Beginner'"
   ]
  },
  {
   "cell_type": "code",
   "execution_count": 66,
   "metadata": {},
   "outputs": [],
   "source": [
    "# Filter the DataFrame to get rows where the specified column matches the target category\n",
    "filtered_df = df[(df[target_category] == 1) & (df[level] == 1)]\n",
    "\n",
    "# Specify the number of random rows you want to select\n",
    "num_random_rows = 4  # Adjust this number as needed\n",
    "\n",
    "# Get random rows from the filtered DataFrame\n",
    "random_rows = filtered_df.sample(n=num_random_rows)"
   ]
  },
  {
   "cell_type": "code",
   "execution_count": 67,
   "metadata": {},
   "outputs": [
    {
     "data": {
      "text/html": [
       "<div>\n",
       "<style scoped>\n",
       "    .dataframe tbody tr th:only-of-type {\n",
       "        vertical-align: middle;\n",
       "    }\n",
       "\n",
       "    .dataframe tbody tr th {\n",
       "        vertical-align: top;\n",
       "    }\n",
       "\n",
       "    .dataframe thead th {\n",
       "        text-align: right;\n",
       "    }\n",
       "</style>\n",
       "<table border=\"1\" class=\"dataframe\">\n",
       "  <thead>\n",
       "    <tr style=\"text-align: right;\">\n",
       "      <th></th>\n",
       "      <th>Exercise</th>\n",
       "      <th>chest</th>\n",
       "      <th>biceps</th>\n",
       "      <th>triceps</th>\n",
       "      <th>shoulders</th>\n",
       "      <th>back</th>\n",
       "      <th>leg</th>\n",
       "      <th>Gym</th>\n",
       "      <th>Home</th>\n",
       "      <th>Beginner</th>\n",
       "      <th>Advanced</th>\n",
       "      <th>Links</th>\n",
       "    </tr>\n",
       "  </thead>\n",
       "  <tbody>\n",
       "    <tr>\n",
       "      <th>3</th>\n",
       "      <td>Push-Up</td>\n",
       "      <td>1</td>\n",
       "      <td>0</td>\n",
       "      <td>1</td>\n",
       "      <td>0</td>\n",
       "      <td>1</td>\n",
       "      <td>0</td>\n",
       "      <td>1</td>\n",
       "      <td>1</td>\n",
       "      <td>1</td>\n",
       "      <td>0</td>\n",
       "      <td>https://www.youtube.com/shorts/ba8tr1NzwXU</td>\n",
       "    </tr>\n",
       "    <tr>\n",
       "      <th>27</th>\n",
       "      <td>Decline Bench Press</td>\n",
       "      <td>1</td>\n",
       "      <td>0</td>\n",
       "      <td>0</td>\n",
       "      <td>0</td>\n",
       "      <td>0</td>\n",
       "      <td>0</td>\n",
       "      <td>1</td>\n",
       "      <td>0</td>\n",
       "      <td>1</td>\n",
       "      <td>1</td>\n",
       "      <td>https://www.youtube.com/watch?v=OR6WM5Z2Hqs&amp;pp...</td>\n",
       "    </tr>\n",
       "    <tr>\n",
       "      <th>25</th>\n",
       "      <td>Close-Grip Bench Press</td>\n",
       "      <td>1</td>\n",
       "      <td>0</td>\n",
       "      <td>0</td>\n",
       "      <td>0</td>\n",
       "      <td>0</td>\n",
       "      <td>0</td>\n",
       "      <td>1</td>\n",
       "      <td>0</td>\n",
       "      <td>1</td>\n",
       "      <td>1</td>\n",
       "      <td>https://www.youtube.com/watch?v=wxVRe9pmJdk&amp;pp...</td>\n",
       "    </tr>\n",
       "    <tr>\n",
       "      <th>36</th>\n",
       "      <td>Incline Dumbbell Press</td>\n",
       "      <td>1</td>\n",
       "      <td>0</td>\n",
       "      <td>0</td>\n",
       "      <td>0</td>\n",
       "      <td>0</td>\n",
       "      <td>0</td>\n",
       "      <td>1</td>\n",
       "      <td>0</td>\n",
       "      <td>1</td>\n",
       "      <td>1</td>\n",
       "      <td>https://www.youtube.com/shorts/oCEEgEQLG8o</td>\n",
       "    </tr>\n",
       "  </tbody>\n",
       "</table>\n",
       "</div>"
      ],
      "text/plain": [
       "                  Exercise  chest  biceps  triceps  shoulders  back  leg  Gym  \\\n",
       "3                  Push-Up      1       0        1          0     1    0    1   \n",
       "27     Decline Bench Press      1       0        0          0     0    0    1   \n",
       "25  Close-Grip Bench Press      1       0        0          0     0    0    1   \n",
       "36  Incline Dumbbell Press      1       0        0          0     0    0    1   \n",
       "\n",
       "    Home  Beginner  Advanced  \\\n",
       "3      1         1         0   \n",
       "27     0         1         1   \n",
       "25     0         1         1   \n",
       "36     0         1         1   \n",
       "\n",
       "                                                Links  \n",
       "3          https://www.youtube.com/shorts/ba8tr1NzwXU  \n",
       "27  https://www.youtube.com/watch?v=OR6WM5Z2Hqs&pp...  \n",
       "25  https://www.youtube.com/watch?v=wxVRe9pmJdk&pp...  \n",
       "36         https://www.youtube.com/shorts/oCEEgEQLG8o  "
      ]
     },
     "execution_count": 67,
     "metadata": {},
     "output_type": "execute_result"
    }
   ],
   "source": [
    "random_rows"
   ]
  },
  {
   "cell_type": "code",
   "execution_count": 68,
   "metadata": {},
   "outputs": [
    {
     "data": {
      "text/plain": [
       "[['Push-Up',\n",
       "  'Decline Bench Press',\n",
       "  'Close-Grip Bench Press',\n",
       "  'Incline Dumbbell Press'],\n",
       " ['https://www.youtube.com/shorts/ba8tr1NzwXU',\n",
       "  'https://www.youtube.com/watch?v=OR6WM5Z2Hqs&pp=ygUcZGVjbGluZSBiZW5jaCBwcmVzcyB0dXRvcmlhbA%3D%3D',\n",
       "  'https://www.youtube.com/watch?v=wxVRe9pmJdk&pp=ygUgY2xvc2UgZ3JpcCBiZW5jaCBwcmVzcyB0dXRvcmlhbCA%3D',\n",
       "  'https://www.youtube.com/shorts/oCEEgEQLG8o']]"
      ]
     },
     "execution_count": 68,
     "metadata": {},
     "output_type": "execute_result"
    }
   ],
   "source": [
    "exerList=[random_rows.Exercise.to_list(),random_rows.Links.to_list()]\n",
    "# random_rows.Exercise.to_list()\n",
    "exerList"
   ]
  },
  {
   "cell_type": "code",
   "execution_count": 69,
   "metadata": {},
   "outputs": [],
   "source": [
    "exerdict1={i:j for (i,j) in zip(random_rows.Exercise.to_list(),random_rows.Links.to_list())}"
   ]
  },
  {
   "cell_type": "code",
   "execution_count": 70,
   "metadata": {},
   "outputs": [
    {
     "data": {
      "text/plain": [
       "{'Push-Up': 'https://www.youtube.com/shorts/ba8tr1NzwXU',\n",
       " 'Decline Bench Press': 'https://www.youtube.com/watch?v=OR6WM5Z2Hqs&pp=ygUcZGVjbGluZSBiZW5jaCBwcmVzcyB0dXRvcmlhbA%3D%3D',\n",
       " 'Close-Grip Bench Press': 'https://www.youtube.com/watch?v=wxVRe9pmJdk&pp=ygUgY2xvc2UgZ3JpcCBiZW5jaCBwcmVzcyB0dXRvcmlhbCA%3D',\n",
       " 'Incline Dumbbell Press': 'https://www.youtube.com/shorts/oCEEgEQLG8o'}"
      ]
     },
     "execution_count": 70,
     "metadata": {},
     "output_type": "execute_result"
    }
   ],
   "source": [
    "exerdict1"
   ]
  },
  {
   "cell_type": "code",
   "execution_count": 71,
   "metadata": {},
   "outputs": [],
   "source": [
    "filtered_df2 = df[(df[target_category] == 1) & (df['Advanced'] == 1)]\n",
    "random_rows2 = filtered_df2.sample(n=num_random_rows)\n",
    "exerdict2={i:j for (i,j) in zip(random_rows2.Exercise.to_list(),random_rows2.Links.to_list())}"
   ]
  },
  {
   "cell_type": "code",
   "execution_count": 72,
   "metadata": {},
   "outputs": [
    {
     "data": {
      "text/plain": [
       "{'Feet-Up Bench Press': 'https://www.youtube.com/shorts/aecb2ku1dqE',\n",
       " 'Dumbbell Chest Press': 'https://www.youtube.com/watch?v=VmB1G1K7v94&pp=ygUdRHVtYmJlbGwgQ2hlc3QgUHJlc3MgdHV0b3JpYWw%3D',\n",
       " 'Floor Press': 'https://www.youtube.com/watch?v=uUGDRwge4F8&pp=ygUURmxvb3IgUHJlc3MgdHV0b3JpYWw%3D',\n",
       " 'Dumbbell Decline Chest Press': 'https://www.youtube.com/shorts/k0E9jvzbluM'}"
      ]
     },
     "execution_count": 72,
     "metadata": {},
     "output_type": "execute_result"
    }
   ],
   "source": [
    "exerdict2"
   ]
  },
  {
   "cell_type": "code",
   "execution_count": 73,
   "metadata": {},
   "outputs": [
    {
     "data": {
      "text/plain": [
       "'https://www.youtube.com/shorts/aecb2ku1dqE'"
      ]
     },
     "execution_count": 73,
     "metadata": {},
     "output_type": "execute_result"
    }
   ],
   "source": [
    "list(exerdict2.keys())[0]\n",
    "list(exerdict2.values())[0]"
   ]
  },
  {
   "cell_type": "code",
   "execution_count": 74,
   "metadata": {},
   "outputs": [],
   "source": [
    "namelist=[]\n",
    "linklist=[]\n",
    "namelist.extend(random_rows.Exercise.to_list())\n",
    "namelist.extend(random_rows2.Exercise.to_list())\n",
    "linklist.extend(random_rows.Links.to_list())\n",
    "linklist.extend(random_rows2.Links.to_list())\n",
    "params={'name':target_category.capitalize(),'b1i':namelist[0].lower(),'b2i':namelist[1].lower(),'b3i':namelist[2].lower(),'b4i':namelist[3].lower(),'b1':namelist[0],'b2':namelist[1],'b3':namelist[2],'b4':namelist[3],'b1L':linklist[0],'b2L':linklist[1],'b3L':linklist[2],'b4L':linklist[3],'a1i':namelist[4].lower(),'a2i':namelist[5].lower(),'a3i':namelist[6].lower(),'a4i':namelist[7].lower(),'a1':namelist[4],'a2':namelist[5],'a3':namelist[6],'a4':namelist[7],'a1L':linklist[4],'a2L':linklist[5],'a3L':linklist[6],'a4L':linklist[7]}"
   ]
  },
  {
   "cell_type": "code",
   "execution_count": 75,
   "metadata": {},
   "outputs": [
    {
     "data": {
      "text/plain": [
       "{'b1i': 'push-up',\n",
       " 'b2i': 'decline bench press',\n",
       " 'b3i': 'close-grip bench press',\n",
       " 'b4i': 'incline dumbbell press',\n",
       " 'b1': 'Push-Up',\n",
       " 'b2': 'Decline Bench Press',\n",
       " 'b3': 'Close-Grip Bench Press',\n",
       " 'b4': 'Incline Dumbbell Press',\n",
       " 'b1L': 'https://www.youtube.com/shorts/ba8tr1NzwXU',\n",
       " 'b2L': 'https://www.youtube.com/watch?v=OR6WM5Z2Hqs&pp=ygUcZGVjbGluZSBiZW5jaCBwcmVzcyB0dXRvcmlhbA%3D%3D',\n",
       " 'b3L': 'https://www.youtube.com/watch?v=wxVRe9pmJdk&pp=ygUgY2xvc2UgZ3JpcCBiZW5jaCBwcmVzcyB0dXRvcmlhbCA%3D',\n",
       " 'b4L': 'https://www.youtube.com/shorts/oCEEgEQLG8o',\n",
       " 'a1i': 'feet-up bench press',\n",
       " 'a2i': 'dumbbell chest press',\n",
       " 'a3i': 'floor press',\n",
       " 'a4i': 'dumbbell decline chest press',\n",
       " 'a1': 'Feet-Up Bench Press',\n",
       " 'a2': 'Dumbbell Chest Press',\n",
       " 'a3': 'Floor Press',\n",
       " 'a4': 'Dumbbell Decline Chest Press',\n",
       " 'a1L': 'https://www.youtube.com/shorts/aecb2ku1dqE',\n",
       " 'a2L': 'https://www.youtube.com/watch?v=VmB1G1K7v94&pp=ygUdRHVtYmJlbGwgQ2hlc3QgUHJlc3MgdHV0b3JpYWw%3D',\n",
       " 'a3L': 'https://www.youtube.com/watch?v=uUGDRwge4F8&pp=ygUURmxvb3IgUHJlc3MgdHV0b3JpYWw%3D',\n",
       " 'a4L': 'https://www.youtube.com/shorts/k0E9jvzbluM'}"
      ]
     },
     "execution_count": 75,
     "metadata": {},
     "output_type": "execute_result"
    }
   ],
   "source": [
    "params"
   ]
  },
  {
   "cell_type": "code",
   "execution_count": 76,
   "metadata": {},
   "outputs": [
    {
     "data": {
      "text/plain": [
       "['Push-Up',\n",
       " 'Decline Bench Press',\n",
       " 'Close-Grip Bench Press',\n",
       " 'Incline Dumbbell Press',\n",
       " 'Feet-Up Bench Press',\n",
       " 'Dumbbell Chest Press',\n",
       " 'Floor Press',\n",
       " 'Dumbbell Decline Chest Press']"
      ]
     },
     "execution_count": 76,
     "metadata": {},
     "output_type": "execute_result"
    }
   ],
   "source": [
    "namelist"
   ]
  },
  {
   "cell_type": "code",
   "execution_count": 77,
   "metadata": {},
   "outputs": [
    {
     "data": {
      "text/plain": [
       "['https://www.youtube.com/shorts/ba8tr1NzwXU',\n",
       " 'https://www.youtube.com/watch?v=OR6WM5Z2Hqs&pp=ygUcZGVjbGluZSBiZW5jaCBwcmVzcyB0dXRvcmlhbA%3D%3D',\n",
       " 'https://www.youtube.com/watch?v=wxVRe9pmJdk&pp=ygUgY2xvc2UgZ3JpcCBiZW5jaCBwcmVzcyB0dXRvcmlhbCA%3D',\n",
       " 'https://www.youtube.com/shorts/oCEEgEQLG8o',\n",
       " 'https://www.youtube.com/shorts/aecb2ku1dqE',\n",
       " 'https://www.youtube.com/watch?v=VmB1G1K7v94&pp=ygUdRHVtYmJlbGwgQ2hlc3QgUHJlc3MgdHV0b3JpYWw%3D',\n",
       " 'https://www.youtube.com/watch?v=uUGDRwge4F8&pp=ygUURmxvb3IgUHJlc3MgdHV0b3JpYWw%3D',\n",
       " 'https://www.youtube.com/shorts/k0E9jvzbluM']"
      ]
     },
     "execution_count": 77,
     "metadata": {},
     "output_type": "execute_result"
    }
   ],
   "source": [
    "linklist"
   ]
  },
  {
   "cell_type": "code",
   "execution_count": 82,
   "metadata": {},
   "outputs": [
    {
     "data": {
      "text/html": [
       "<div>\n",
       "<style scoped>\n",
       "    .dataframe tbody tr th:only-of-type {\n",
       "        vertical-align: middle;\n",
       "    }\n",
       "\n",
       "    .dataframe tbody tr th {\n",
       "        vertical-align: top;\n",
       "    }\n",
       "\n",
       "    .dataframe thead th {\n",
       "        text-align: right;\n",
       "    }\n",
       "</style>\n",
       "<table border=\"1\" class=\"dataframe\">\n",
       "  <thead>\n",
       "    <tr style=\"text-align: right;\">\n",
       "      <th></th>\n",
       "      <th>Exercise</th>\n",
       "      <th>chest</th>\n",
       "      <th>biceps</th>\n",
       "      <th>triceps</th>\n",
       "      <th>shoulders</th>\n",
       "      <th>back</th>\n",
       "      <th>leg</th>\n",
       "      <th>Gym</th>\n",
       "      <th>Home</th>\n",
       "      <th>Beginner</th>\n",
       "      <th>Advanced</th>\n",
       "      <th>Links</th>\n",
       "    </tr>\n",
       "  </thead>\n",
       "  <tbody>\n",
       "    <tr>\n",
       "      <th>1</th>\n",
       "      <td>Leg Press</td>\n",
       "      <td>0</td>\n",
       "      <td>0</td>\n",
       "      <td>0</td>\n",
       "      <td>0</td>\n",
       "      <td>0</td>\n",
       "      <td>1</td>\n",
       "      <td>1</td>\n",
       "      <td>0</td>\n",
       "      <td>1</td>\n",
       "      <td>0</td>\n",
       "      <td>https://www.youtube.com/watch?v=VFk3RzndUEc</td>\n",
       "    </tr>\n",
       "    <tr>\n",
       "      <th>20</th>\n",
       "      <td>Air Squats</td>\n",
       "      <td>0</td>\n",
       "      <td>0</td>\n",
       "      <td>0</td>\n",
       "      <td>0</td>\n",
       "      <td>0</td>\n",
       "      <td>1</td>\n",
       "      <td>1</td>\n",
       "      <td>1</td>\n",
       "      <td>1</td>\n",
       "      <td>0</td>\n",
       "      <td>https://www.youtube.com/watch?v=NGttLyYktTw&amp;pp...</td>\n",
       "    </tr>\n",
       "    <tr>\n",
       "      <th>22</th>\n",
       "      <td>Leg Extension</td>\n",
       "      <td>0</td>\n",
       "      <td>0</td>\n",
       "      <td>0</td>\n",
       "      <td>0</td>\n",
       "      <td>0</td>\n",
       "      <td>1</td>\n",
       "      <td>1</td>\n",
       "      <td>0</td>\n",
       "      <td>1</td>\n",
       "      <td>0</td>\n",
       "      <td>https://www.youtube.com/watch?v=4ZDm5EbiFI8&amp;pp...</td>\n",
       "    </tr>\n",
       "  </tbody>\n",
       "</table>\n",
       "</div>"
      ],
      "text/plain": [
       "         Exercise  chest  biceps  triceps  shoulders  back  leg  Gym  Home  \\\n",
       "1       Leg Press      0       0        0          0     0    1    1     0   \n",
       "20     Air Squats      0       0        0          0     0    1    1     1   \n",
       "22  Leg Extension      0       0        0          0     0    1    1     0   \n",
       "\n",
       "    Beginner  Advanced                                              Links  \n",
       "1          1         0        https://www.youtube.com/watch?v=VFk3RzndUEc  \n",
       "20         1         0  https://www.youtube.com/watch?v=NGttLyYktTw&pp...  \n",
       "22         1         0  https://www.youtube.com/watch?v=4ZDm5EbiFI8&pp...  "
      ]
     },
     "execution_count": 82,
     "metadata": {},
     "output_type": "execute_result"
    }
   ],
   "source": [
    "target_category='leg'\n",
    "level='Beginner'\n",
    "df[(df[target_category] == 1) & (df[level] == 1)]"
   ]
  },
  {
   "cell_type": "code",
   "execution_count": null,
   "metadata": {},
   "outputs": [],
   "source": [
    "# from django.shortcuts import render,redirect\n",
    "# import pandas as pd\n",
    "\n",
    "# df=pd.read_excel(\"./datasets/PHS_exercise_data.xlsx\")\n",
    "# # Create your views here.\n",
    "# def index(request):\n",
    "#     return redirect('/#exercise')\n",
    "\n",
    "# def exercise_view(request, exercise_name):\n",
    "#     # Now, exercise_name contains the part of the URL after '/exercise/'\n",
    "#     # You can use it as needed\n",
    "#     # Filter the DataFrame to get rows where the specified column matches the target category\n",
    "#     filtered_df = df[(df[exercise_name] == 1) & (df['Beginner'] == 1)]\n",
    "#     # Specify the number of random rows you want to select\n",
    "#     num_random_rows = 4  # Adjust this number as needed\n",
    "#     # Get random rows from the filtered DataFrame\n",
    "#     random_rows = filtered_df.sample(n=num_random_rows)\n",
    "#     filtered_df2 = df[(df[exercise_name] == 1) & (df['Advanced'] == 1)]\n",
    "#     random_rows2 = filtered_df2.sample(n=num_random_rows)\n",
    "#     namelist=[]\n",
    "#     linklist=[]\n",
    "#     namelist.extend(random_rows.Exercise.to_list())\n",
    "#     namelist.extend(random_rows2.Exercise.to_list())\n",
    "#     linklist.extend(random_rows.Links.to_list())\n",
    "#     linklist.extend(random_rows2.Links.to_list())\n",
    "#     print('names list is ', namelist)\n",
    "#     params={'name':exercise_name.capitalize(),'b1i':namelist[0].lower(),'b2i':namelist[1].lower(),'b3i':namelist[2].lower(),'b4i':namelist[3].lower(),'b1':namelist[0],'b2':namelist[1],'b3':namelist[2],'b4':namelist[3],'b1L':linklist[0],'b2L':linklist[1],'b3L':linklist[2],'b4L':linklist[3],'a1i':'/static/media/FULL_GYM/'+namelist[4].lower()+'.jpg','a2i':namelist[5].lower(),'a3i':namelist[6].lower(),'a4i':namelist[7].lower(),'a1':namelist[4],'a2':namelist[5],'a3':namelist[6],'a4':namelist[7],'a1L':linklist[4],'a2L':linklist[5],'a3L':linklist[6],'a4L':linklist[7]}\n",
    "#     return render(request,'exercises.html',params)"
   ]
  }
 ],
 "metadata": {
  "kernelspec": {
   "display_name": "Python 3",
   "language": "python",
   "name": "python3"
  },
  "language_info": {
   "codemirror_mode": {
    "name": "ipython",
    "version": 3
   },
   "file_extension": ".py",
   "mimetype": "text/x-python",
   "name": "python",
   "nbconvert_exporter": "python",
   "pygments_lexer": "ipython3",
   "version": "3.11.4"
  },
  "orig_nbformat": 4
 },
 "nbformat": 4,
 "nbformat_minor": 2
}
