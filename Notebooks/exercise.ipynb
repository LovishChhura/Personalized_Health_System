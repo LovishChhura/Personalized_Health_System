{
 "cells": [
  {
   "cell_type": "markdown",
   "metadata": {},
   "source": [
    "### Exercise Notebook"
   ]
  },
  {
   "cell_type": "markdown",
   "metadata": {},
   "source": [
    "- imports"
   ]
  },
  {
   "cell_type": "code",
   "execution_count": 35,
   "metadata": {},
   "outputs": [],
   "source": [
    "import pandas as pd\n",
    "import numpy as np"
   ]
  },
  {
   "cell_type": "code",
   "execution_count": 36,
   "metadata": {},
   "outputs": [
    {
     "data": {
      "text/html": [
       "<div>\n",
       "<style scoped>\n",
       "    .dataframe tbody tr th:only-of-type {\n",
       "        vertical-align: middle;\n",
       "    }\n",
       "\n",
       "    .dataframe tbody tr th {\n",
       "        vertical-align: top;\n",
       "    }\n",
       "\n",
       "    .dataframe thead th {\n",
       "        text-align: right;\n",
       "    }\n",
       "</style>\n",
       "<table border=\"1\" class=\"dataframe\">\n",
       "  <thead>\n",
       "    <tr style=\"text-align: right;\">\n",
       "      <th></th>\n",
       "      <th>Exercise</th>\n",
       "      <th>chest</th>\n",
       "      <th>biceps</th>\n",
       "      <th>triceps</th>\n",
       "      <th>shoulders</th>\n",
       "      <th>back</th>\n",
       "      <th>legs</th>\n",
       "      <th>Gym</th>\n",
       "      <th>Home</th>\n",
       "      <th>Beginner</th>\n",
       "      <th>Advanced</th>\n",
       "      <th>Links</th>\n",
       "    </tr>\n",
       "  </thead>\n",
       "  <tbody>\n",
       "    <tr>\n",
       "      <th>0</th>\n",
       "      <td>Bench Press</td>\n",
       "      <td>1</td>\n",
       "      <td>0</td>\n",
       "      <td>1</td>\n",
       "      <td>0</td>\n",
       "      <td>0</td>\n",
       "      <td>0</td>\n",
       "      <td>1</td>\n",
       "      <td>0</td>\n",
       "      <td>1</td>\n",
       "      <td>0</td>\n",
       "      <td>https://www.youtube.com/watch?v=0cXAp6WhSj4&amp;ab...</td>\n",
       "    </tr>\n",
       "    <tr>\n",
       "      <th>1</th>\n",
       "      <td>Leg Press</td>\n",
       "      <td>0</td>\n",
       "      <td>0</td>\n",
       "      <td>0</td>\n",
       "      <td>0</td>\n",
       "      <td>0</td>\n",
       "      <td>1</td>\n",
       "      <td>1</td>\n",
       "      <td>0</td>\n",
       "      <td>1</td>\n",
       "      <td>0</td>\n",
       "      <td>https://www.youtube.com/watch?v=VFk3RzndUEc</td>\n",
       "    </tr>\n",
       "    <tr>\n",
       "      <th>2</th>\n",
       "      <td>Peck Deck</td>\n",
       "      <td>1</td>\n",
       "      <td>0</td>\n",
       "      <td>1</td>\n",
       "      <td>0</td>\n",
       "      <td>1</td>\n",
       "      <td>0</td>\n",
       "      <td>1</td>\n",
       "      <td>0</td>\n",
       "      <td>1</td>\n",
       "      <td>0</td>\n",
       "      <td>https://www.youtube.com/shorts/fgXSA2-o0NM</td>\n",
       "    </tr>\n",
       "    <tr>\n",
       "      <th>3</th>\n",
       "      <td>Push-Up</td>\n",
       "      <td>1</td>\n",
       "      <td>0</td>\n",
       "      <td>1</td>\n",
       "      <td>0</td>\n",
       "      <td>1</td>\n",
       "      <td>0</td>\n",
       "      <td>1</td>\n",
       "      <td>1</td>\n",
       "      <td>1</td>\n",
       "      <td>0</td>\n",
       "      <td>https://www.youtube.com/shorts/ba8tr1NzwXU</td>\n",
       "    </tr>\n",
       "    <tr>\n",
       "      <th>4</th>\n",
       "      <td>Cable Press</td>\n",
       "      <td>1</td>\n",
       "      <td>0</td>\n",
       "      <td>1</td>\n",
       "      <td>0</td>\n",
       "      <td>1</td>\n",
       "      <td>0</td>\n",
       "      <td>1</td>\n",
       "      <td>0</td>\n",
       "      <td>0</td>\n",
       "      <td>1</td>\n",
       "      <td>https://www.youtube.com/watch?v=FVWJglwid4I&amp;pp...</td>\n",
       "    </tr>\n",
       "  </tbody>\n",
       "</table>\n",
       "</div>"
      ],
      "text/plain": [
       "      Exercise  chest  biceps  triceps  shoulders  back  legs  Gym  Home  \\\n",
       "0  Bench Press      1       0        1          0     0     0    1     0   \n",
       "1    Leg Press      0       0        0          0     0     1    1     0   \n",
       "2    Peck Deck      1       0        1          0     1     0    1     0   \n",
       "3      Push-Up      1       0        1          0     1     0    1     1   \n",
       "4  Cable Press      1       0        1          0     1     0    1     0   \n",
       "\n",
       "   Beginner  Advanced                                              Links  \n",
       "0         1         0  https://www.youtube.com/watch?v=0cXAp6WhSj4&ab...  \n",
       "1         1         0        https://www.youtube.com/watch?v=VFk3RzndUEc  \n",
       "2         1         0         https://www.youtube.com/shorts/fgXSA2-o0NM  \n",
       "3         1         0         https://www.youtube.com/shorts/ba8tr1NzwXU  \n",
       "4         0         1  https://www.youtube.com/watch?v=FVWJglwid4I&pp...  "
      ]
     },
     "execution_count": 36,
     "metadata": {},
     "output_type": "execute_result"
    }
   ],
   "source": [
    "df=pd.read_excel(\"./PHS_exercise_data.xlsx\")\n",
    "df.head()"
   ]
  },
  {
   "cell_type": "code",
   "execution_count": 37,
   "metadata": {},
   "outputs": [
    {
     "data": {
      "text/plain": [
       "False"
      ]
     },
     "execution_count": 37,
     "metadata": {},
     "output_type": "execute_result"
    }
   ],
   "source": [
    "df.Exercise.duplicated().any()"
   ]
  },
  {
   "cell_type": "code",
   "execution_count": 38,
   "metadata": {},
   "outputs": [],
   "source": [
    "target_category = 'legs'\n",
    "level= 'Beginner'"
   ]
  },
  {
   "cell_type": "code",
   "execution_count": 39,
   "metadata": {},
   "outputs": [],
   "source": [
    "# Filter the DataFrame to get rows where the specified column matches the target category\n",
    "filtered_df = df[(df[target_category] == 1) & (df[level] == 1)]\n",
    "\n",
    "# Specify the number of random rows you want to select\n",
    "num_random_rows = 4  # Adjust this number as needed\n",
    "\n",
    "# Get random rows from the filtered DataFrame\n",
    "random_rows = filtered_df.sample(n=num_random_rows)"
   ]
  },
  {
   "cell_type": "code",
   "execution_count": 40,
   "metadata": {},
   "outputs": [
    {
     "data": {
      "text/html": [
       "<div>\n",
       "<style scoped>\n",
       "    .dataframe tbody tr th:only-of-type {\n",
       "        vertical-align: middle;\n",
       "    }\n",
       "\n",
       "    .dataframe tbody tr th {\n",
       "        vertical-align: top;\n",
       "    }\n",
       "\n",
       "    .dataframe thead th {\n",
       "        text-align: right;\n",
       "    }\n",
       "</style>\n",
       "<table border=\"1\" class=\"dataframe\">\n",
       "  <thead>\n",
       "    <tr style=\"text-align: right;\">\n",
       "      <th></th>\n",
       "      <th>Exercise</th>\n",
       "      <th>chest</th>\n",
       "      <th>biceps</th>\n",
       "      <th>triceps</th>\n",
       "      <th>shoulders</th>\n",
       "      <th>back</th>\n",
       "      <th>legs</th>\n",
       "      <th>Gym</th>\n",
       "      <th>Home</th>\n",
       "      <th>Beginner</th>\n",
       "      <th>Advanced</th>\n",
       "      <th>Links</th>\n",
       "    </tr>\n",
       "  </thead>\n",
       "  <tbody>\n",
       "    <tr>\n",
       "      <th>22</th>\n",
       "      <td>Leg Extension</td>\n",
       "      <td>0</td>\n",
       "      <td>0</td>\n",
       "      <td>0</td>\n",
       "      <td>0</td>\n",
       "      <td>0</td>\n",
       "      <td>1</td>\n",
       "      <td>1</td>\n",
       "      <td>0</td>\n",
       "      <td>1</td>\n",
       "      <td>0</td>\n",
       "      <td>https://www.youtube.com/watch?v=4ZDm5EbiFI8&amp;pp...</td>\n",
       "    </tr>\n",
       "    <tr>\n",
       "      <th>20</th>\n",
       "      <td>Air Squats</td>\n",
       "      <td>0</td>\n",
       "      <td>0</td>\n",
       "      <td>0</td>\n",
       "      <td>0</td>\n",
       "      <td>0</td>\n",
       "      <td>1</td>\n",
       "      <td>1</td>\n",
       "      <td>1</td>\n",
       "      <td>1</td>\n",
       "      <td>0</td>\n",
       "      <td>https://www.youtube.com/watch?v=NGttLyYktTw&amp;pp...</td>\n",
       "    </tr>\n",
       "    <tr>\n",
       "      <th>1</th>\n",
       "      <td>Leg Press</td>\n",
       "      <td>0</td>\n",
       "      <td>0</td>\n",
       "      <td>0</td>\n",
       "      <td>0</td>\n",
       "      <td>0</td>\n",
       "      <td>1</td>\n",
       "      <td>1</td>\n",
       "      <td>0</td>\n",
       "      <td>1</td>\n",
       "      <td>0</td>\n",
       "      <td>https://www.youtube.com/watch?v=VFk3RzndUEc</td>\n",
       "    </tr>\n",
       "    <tr>\n",
       "      <th>92</th>\n",
       "      <td>Bulgarian Split Squat</td>\n",
       "      <td>0</td>\n",
       "      <td>0</td>\n",
       "      <td>0</td>\n",
       "      <td>0</td>\n",
       "      <td>0</td>\n",
       "      <td>1</td>\n",
       "      <td>1</td>\n",
       "      <td>1</td>\n",
       "      <td>1</td>\n",
       "      <td>0</td>\n",
       "      <td>https://youtu.be/HBYGeyb4sSM?si=0mUhYnS4j9blvuo-</td>\n",
       "    </tr>\n",
       "  </tbody>\n",
       "</table>\n",
       "</div>"
      ],
      "text/plain": [
       "                 Exercise  chest  biceps  triceps  shoulders  back  legs  Gym  \\\n",
       "22          Leg Extension      0       0        0          0     0     1    1   \n",
       "20             Air Squats      0       0        0          0     0     1    1   \n",
       "1               Leg Press      0       0        0          0     0     1    1   \n",
       "92  Bulgarian Split Squat      0       0        0          0     0     1    1   \n",
       "\n",
       "    Home  Beginner  Advanced  \\\n",
       "22     0         1         0   \n",
       "20     1         1         0   \n",
       "1      0         1         0   \n",
       "92     1         1         0   \n",
       "\n",
       "                                                Links  \n",
       "22  https://www.youtube.com/watch?v=4ZDm5EbiFI8&pp...  \n",
       "20  https://www.youtube.com/watch?v=NGttLyYktTw&pp...  \n",
       "1         https://www.youtube.com/watch?v=VFk3RzndUEc  \n",
       "92   https://youtu.be/HBYGeyb4sSM?si=0mUhYnS4j9blvuo-  "
      ]
     },
     "execution_count": 40,
     "metadata": {},
     "output_type": "execute_result"
    }
   ],
   "source": [
    "random_rows"
   ]
  },
  {
   "cell_type": "code",
   "execution_count": 41,
   "metadata": {},
   "outputs": [
    {
     "data": {
      "text/plain": [
       "[['Leg Extension', 'Air Squats', 'Leg Press', 'Bulgarian Split Squat'],\n",
       " ['https://www.youtube.com/watch?v=4ZDm5EbiFI8&pp=ygUWbGVnIGV4dGVuc2lvbiB0dXRvcmlhbA%3D%3D',\n",
       "  'https://www.youtube.com/watch?v=NGttLyYktTw&pp=ygUTYWlyIHNxdWF0cyB0dXRvcmlhbA%3D%3D',\n",
       "  'https://www.youtube.com/watch?v=VFk3RzndUEc',\n",
       "  'https://youtu.be/HBYGeyb4sSM?si=0mUhYnS4j9blvuo-']]"
      ]
     },
     "execution_count": 41,
     "metadata": {},
     "output_type": "execute_result"
    }
   ],
   "source": [
    "exerList=[random_rows.Exercise.to_list(),random_rows.Links.to_list()]\n",
    "# random_rows.Exercise.to_list()\n",
    "exerList"
   ]
  },
  {
   "cell_type": "code",
   "execution_count": 42,
   "metadata": {},
   "outputs": [],
   "source": [
    "exerdict1={i:j for (i,j) in zip(random_rows.Exercise.to_list(),random_rows.Links.to_list())}"
   ]
  },
  {
   "cell_type": "code",
   "execution_count": 43,
   "metadata": {},
   "outputs": [
    {
     "data": {
      "text/plain": [
       "{'Leg Extension': 'https://www.youtube.com/watch?v=4ZDm5EbiFI8&pp=ygUWbGVnIGV4dGVuc2lvbiB0dXRvcmlhbA%3D%3D',\n",
       " 'Air Squats': 'https://www.youtube.com/watch?v=NGttLyYktTw&pp=ygUTYWlyIHNxdWF0cyB0dXRvcmlhbA%3D%3D',\n",
       " 'Leg Press': 'https://www.youtube.com/watch?v=VFk3RzndUEc',\n",
       " 'Bulgarian Split Squat': 'https://youtu.be/HBYGeyb4sSM?si=0mUhYnS4j9blvuo-'}"
      ]
     },
     "execution_count": 43,
     "metadata": {},
     "output_type": "execute_result"
    }
   ],
   "source": [
    "exerdict1"
   ]
  },
  {
   "cell_type": "code",
   "execution_count": 44,
   "metadata": {},
   "outputs": [],
   "source": [
    "filtered_df2 = df[(df[target_category] == 1) & (df['Advanced'] == 1)]\n",
    "random_rows2 = filtered_df2.sample(n=num_random_rows)\n",
    "exerdict2={i:j for (i,j) in zip(random_rows2.Exercise.to_list(),random_rows2.Links.to_list())}"
   ]
  },
  {
   "cell_type": "code",
   "execution_count": 45,
   "metadata": {},
   "outputs": [
    {
     "data": {
      "text/plain": [
       "{'Back Extension': 'https://www.youtube.com/watch?v=ph3pddpKzzw&pp=ygUXYmFjayBleHRlbnNpb24gdHV0b3JpYWw%3D',\n",
       " 'Deadlift': 'https://www.youtube.com/shorts/vfKwjT5-86k',\n",
       " 'Barbell Lunge': 'https://www.youtube.com/watch?v=ci4rsmlOk24&pp=ygUWQmFyYmVsbCBMdW5nZSB0dXRvcmlhbA%3D%3D',\n",
       " 'Dumbbell Lunge': 'https://www.youtube.com/shorts/TwEH620Pn6A'}"
      ]
     },
     "execution_count": 45,
     "metadata": {},
     "output_type": "execute_result"
    }
   ],
   "source": [
    "exerdict2"
   ]
  },
  {
   "cell_type": "code",
   "execution_count": 46,
   "metadata": {},
   "outputs": [
    {
     "data": {
      "text/plain": [
       "'https://www.youtube.com/watch?v=ph3pddpKzzw&pp=ygUXYmFjayBleHRlbnNpb24gdHV0b3JpYWw%3D'"
      ]
     },
     "execution_count": 46,
     "metadata": {},
     "output_type": "execute_result"
    }
   ],
   "source": [
    "list(exerdict2.keys())[0]\n",
    "list(exerdict2.values())[0]"
   ]
  },
  {
   "cell_type": "code",
   "execution_count": 47,
   "metadata": {},
   "outputs": [],
   "source": [
    "namelist=[]\n",
    "linklist=[]\n",
    "namelist.extend(random_rows.Exercise.to_list())\n",
    "namelist.extend(random_rows2.Exercise.to_list())\n",
    "linklist.extend(random_rows.Links.to_list())\n",
    "linklist.extend(random_rows2.Links.to_list())\n",
    "params={'name':target_category.capitalize(),'b1i':namelist[0].lower(),'b2i':namelist[1].lower(),'b3i':namelist[2].lower(),'b4i':namelist[3].lower(),'b1':namelist[0],'b2':namelist[1],'b3':namelist[2],'b4':namelist[3],'b1L':linklist[0],'b2L':linklist[1],'b3L':linklist[2],'b4L':linklist[3],'a1i':namelist[4].lower(),'a2i':namelist[5].lower(),'a3i':namelist[6].lower(),'a4i':namelist[7].lower(),'a1':namelist[4],'a2':namelist[5],'a3':namelist[6],'a4':namelist[7],'a1L':linklist[4],'a2L':linklist[5],'a3L':linklist[6],'a4L':linklist[7]}"
   ]
  },
  {
   "cell_type": "code",
   "execution_count": 48,
   "metadata": {},
   "outputs": [
    {
     "data": {
      "text/plain": [
       "{'name': 'Legs',\n",
       " 'b1i': 'leg extension',\n",
       " 'b2i': 'air squats',\n",
       " 'b3i': 'leg press',\n",
       " 'b4i': 'bulgarian split squat',\n",
       " 'b1': 'Leg Extension',\n",
       " 'b2': 'Air Squats',\n",
       " 'b3': 'Leg Press',\n",
       " 'b4': 'Bulgarian Split Squat',\n",
       " 'b1L': 'https://www.youtube.com/watch?v=4ZDm5EbiFI8&pp=ygUWbGVnIGV4dGVuc2lvbiB0dXRvcmlhbA%3D%3D',\n",
       " 'b2L': 'https://www.youtube.com/watch?v=NGttLyYktTw&pp=ygUTYWlyIHNxdWF0cyB0dXRvcmlhbA%3D%3D',\n",
       " 'b3L': 'https://www.youtube.com/watch?v=VFk3RzndUEc',\n",
       " 'b4L': 'https://youtu.be/HBYGeyb4sSM?si=0mUhYnS4j9blvuo-',\n",
       " 'a1i': 'back extension',\n",
       " 'a2i': 'deadlift',\n",
       " 'a3i': 'barbell lunge',\n",
       " 'a4i': 'dumbbell lunge',\n",
       " 'a1': 'Back Extension',\n",
       " 'a2': 'Deadlift',\n",
       " 'a3': 'Barbell Lunge',\n",
       " 'a4': 'Dumbbell Lunge',\n",
       " 'a1L': 'https://www.youtube.com/watch?v=ph3pddpKzzw&pp=ygUXYmFjayBleHRlbnNpb24gdHV0b3JpYWw%3D',\n",
       " 'a2L': 'https://www.youtube.com/shorts/vfKwjT5-86k',\n",
       " 'a3L': 'https://www.youtube.com/watch?v=ci4rsmlOk24&pp=ygUWQmFyYmVsbCBMdW5nZSB0dXRvcmlhbA%3D%3D',\n",
       " 'a4L': 'https://www.youtube.com/shorts/TwEH620Pn6A'}"
      ]
     },
     "execution_count": 48,
     "metadata": {},
     "output_type": "execute_result"
    }
   ],
   "source": [
    "params"
   ]
  },
  {
   "cell_type": "code",
   "execution_count": 49,
   "metadata": {},
   "outputs": [
    {
     "data": {
      "text/plain": [
       "['Leg Extension',\n",
       " 'Air Squats',\n",
       " 'Leg Press',\n",
       " 'Bulgarian Split Squat',\n",
       " 'Back Extension',\n",
       " 'Deadlift',\n",
       " 'Barbell Lunge',\n",
       " 'Dumbbell Lunge']"
      ]
     },
     "execution_count": 49,
     "metadata": {},
     "output_type": "execute_result"
    }
   ],
   "source": [
    "namelist"
   ]
  },
  {
   "cell_type": "code",
   "execution_count": 50,
   "metadata": {},
   "outputs": [
    {
     "data": {
      "text/plain": [
       "['https://www.youtube.com/watch?v=4ZDm5EbiFI8&pp=ygUWbGVnIGV4dGVuc2lvbiB0dXRvcmlhbA%3D%3D',\n",
       " 'https://www.youtube.com/watch?v=NGttLyYktTw&pp=ygUTYWlyIHNxdWF0cyB0dXRvcmlhbA%3D%3D',\n",
       " 'https://www.youtube.com/watch?v=VFk3RzndUEc',\n",
       " 'https://youtu.be/HBYGeyb4sSM?si=0mUhYnS4j9blvuo-',\n",
       " 'https://www.youtube.com/watch?v=ph3pddpKzzw&pp=ygUXYmFjayBleHRlbnNpb24gdHV0b3JpYWw%3D',\n",
       " 'https://www.youtube.com/shorts/vfKwjT5-86k',\n",
       " 'https://www.youtube.com/watch?v=ci4rsmlOk24&pp=ygUWQmFyYmVsbCBMdW5nZSB0dXRvcmlhbA%3D%3D',\n",
       " 'https://www.youtube.com/shorts/TwEH620Pn6A']"
      ]
     },
     "execution_count": 50,
     "metadata": {},
     "output_type": "execute_result"
    }
   ],
   "source": [
    "linklist"
   ]
  },
  {
   "cell_type": "code",
   "execution_count": 51,
   "metadata": {},
   "outputs": [
    {
     "data": {
      "text/html": [
       "<div>\n",
       "<style scoped>\n",
       "    .dataframe tbody tr th:only-of-type {\n",
       "        vertical-align: middle;\n",
       "    }\n",
       "\n",
       "    .dataframe tbody tr th {\n",
       "        vertical-align: top;\n",
       "    }\n",
       "\n",
       "    .dataframe thead th {\n",
       "        text-align: right;\n",
       "    }\n",
       "</style>\n",
       "<table border=\"1\" class=\"dataframe\">\n",
       "  <thead>\n",
       "    <tr style=\"text-align: right;\">\n",
       "      <th></th>\n",
       "      <th>Exercise</th>\n",
       "      <th>chest</th>\n",
       "      <th>biceps</th>\n",
       "      <th>triceps</th>\n",
       "      <th>shoulders</th>\n",
       "      <th>back</th>\n",
       "      <th>legs</th>\n",
       "      <th>Gym</th>\n",
       "      <th>Home</th>\n",
       "      <th>Beginner</th>\n",
       "      <th>Advanced</th>\n",
       "      <th>Links</th>\n",
       "    </tr>\n",
       "  </thead>\n",
       "  <tbody>\n",
       "    <tr>\n",
       "      <th>1</th>\n",
       "      <td>Leg Press</td>\n",
       "      <td>0</td>\n",
       "      <td>0</td>\n",
       "      <td>0</td>\n",
       "      <td>0</td>\n",
       "      <td>0</td>\n",
       "      <td>1</td>\n",
       "      <td>1</td>\n",
       "      <td>0</td>\n",
       "      <td>1</td>\n",
       "      <td>0</td>\n",
       "      <td>https://www.youtube.com/watch?v=VFk3RzndUEc</td>\n",
       "    </tr>\n",
       "    <tr>\n",
       "      <th>20</th>\n",
       "      <td>Air Squats</td>\n",
       "      <td>0</td>\n",
       "      <td>0</td>\n",
       "      <td>0</td>\n",
       "      <td>0</td>\n",
       "      <td>0</td>\n",
       "      <td>1</td>\n",
       "      <td>1</td>\n",
       "      <td>1</td>\n",
       "      <td>1</td>\n",
       "      <td>0</td>\n",
       "      <td>https://www.youtube.com/watch?v=NGttLyYktTw&amp;pp...</td>\n",
       "    </tr>\n",
       "    <tr>\n",
       "      <th>22</th>\n",
       "      <td>Leg Extension</td>\n",
       "      <td>0</td>\n",
       "      <td>0</td>\n",
       "      <td>0</td>\n",
       "      <td>0</td>\n",
       "      <td>0</td>\n",
       "      <td>1</td>\n",
       "      <td>1</td>\n",
       "      <td>0</td>\n",
       "      <td>1</td>\n",
       "      <td>0</td>\n",
       "      <td>https://www.youtube.com/watch?v=4ZDm5EbiFI8&amp;pp...</td>\n",
       "    </tr>\n",
       "    <tr>\n",
       "      <th>91</th>\n",
       "      <td>Trap Bar Deadlifts</td>\n",
       "      <td>0</td>\n",
       "      <td>0</td>\n",
       "      <td>0</td>\n",
       "      <td>0</td>\n",
       "      <td>1</td>\n",
       "      <td>1</td>\n",
       "      <td>1</td>\n",
       "      <td>0</td>\n",
       "      <td>1</td>\n",
       "      <td>0</td>\n",
       "      <td>https://youtu.be/TU2xZ7s4jus?si=wdjwlw-XOUoTjtQ6</td>\n",
       "    </tr>\n",
       "    <tr>\n",
       "      <th>92</th>\n",
       "      <td>Bulgarian Split Squat</td>\n",
       "      <td>0</td>\n",
       "      <td>0</td>\n",
       "      <td>0</td>\n",
       "      <td>0</td>\n",
       "      <td>0</td>\n",
       "      <td>1</td>\n",
       "      <td>1</td>\n",
       "      <td>1</td>\n",
       "      <td>1</td>\n",
       "      <td>0</td>\n",
       "      <td>https://youtu.be/HBYGeyb4sSM?si=0mUhYnS4j9blvuo-</td>\n",
       "    </tr>\n",
       "  </tbody>\n",
       "</table>\n",
       "</div>"
      ],
      "text/plain": [
       "                 Exercise  chest  biceps  triceps  shoulders  back  legs  Gym  \\\n",
       "1               Leg Press      0       0        0          0     0     1    1   \n",
       "20             Air Squats      0       0        0          0     0     1    1   \n",
       "22          Leg Extension      0       0        0          0     0     1    1   \n",
       "91     Trap Bar Deadlifts      0       0        0          0     1     1    1   \n",
       "92  Bulgarian Split Squat      0       0        0          0     0     1    1   \n",
       "\n",
       "    Home  Beginner  Advanced  \\\n",
       "1      0         1         0   \n",
       "20     1         1         0   \n",
       "22     0         1         0   \n",
       "91     0         1         0   \n",
       "92     1         1         0   \n",
       "\n",
       "                                                Links  \n",
       "1         https://www.youtube.com/watch?v=VFk3RzndUEc  \n",
       "20  https://www.youtube.com/watch?v=NGttLyYktTw&pp...  \n",
       "22  https://www.youtube.com/watch?v=4ZDm5EbiFI8&pp...  \n",
       "91   https://youtu.be/TU2xZ7s4jus?si=wdjwlw-XOUoTjtQ6  \n",
       "92   https://youtu.be/HBYGeyb4sSM?si=0mUhYnS4j9blvuo-  "
      ]
     },
     "execution_count": 51,
     "metadata": {},
     "output_type": "execute_result"
    }
   ],
   "source": [
    "target_category='legs'\n",
    "level='Beginner'\n",
    "df[(df[target_category] == 1) & (df[level] == 1)]"
   ]
  },
  {
   "cell_type": "code",
   "execution_count": 52,
   "metadata": {},
   "outputs": [],
   "source": [
    "# from django.shortcuts import render,redirect\n",
    "# import pandas as pd\n",
    "\n",
    "# df=pd.read_excel(\"./datasets/PHS_exercise_data.xlsx\")\n",
    "# # Create your views here.\n",
    "# def index(request):\n",
    "#     return redirect('/#exercise')\n",
    "\n",
    "# def exercise_view(request, exercise_name):\n",
    "#     # Now, exercise_name contains the part of the URL after '/exercise/'\n",
    "#     # You can use it as needed\n",
    "#     # Filter the DataFrame to get rows where the specified column matches the target category\n",
    "#     filtered_df = df[(df[exercise_name] == 1) & (df['Beginner'] == 1)]\n",
    "#     # Specify the number of random rows you want to select\n",
    "#     num_random_rows = 4  # Adjust this number as needed\n",
    "#     # Get random rows from the filtered DataFrame\n",
    "#     random_rows = filtered_df.sample(n=num_random_rows)\n",
    "#     filtered_df2 = df[(df[exercise_name] == 1) & (df['Advanced'] == 1)]\n",
    "#     random_rows2 = filtered_df2.sample(n=num_random_rows)\n",
    "#     namelist=[]\n",
    "#     linklist=[]\n",
    "#     namelist.extend(random_rows.Exercise.to_list())\n",
    "#     namelist.extend(random_rows2.Exercise.to_list())\n",
    "#     linklist.extend(random_rows.Links.to_list())\n",
    "#     linklist.extend(random_rows2.Links.to_list())\n",
    "#     print('names list is ', namelist)\n",
    "#     params={'name':exercise_name.capitalize(),'b1i':namelist[0].lower(),'b2i':namelist[1].lower(),'b3i':namelist[2].lower(),'b4i':namelist[3].lower(),'b1':namelist[0],'b2':namelist[1],'b3':namelist[2],'b4':namelist[3],'b1L':linklist[0],'b2L':linklist[1],'b3L':linklist[2],'b4L':linklist[3],'a1i':'/static/media/FULL_GYM/'+namelist[4].lower()+'.jpg','a2i':namelist[5].lower(),'a3i':namelist[6].lower(),'a4i':namelist[7].lower(),'a1':namelist[4],'a2':namelist[5],'a3':namelist[6],'a4':namelist[7],'a1L':linklist[4],'a2L':linklist[5],'a3L':linklist[6],'a4L':linklist[7]}\n",
    "#     return render(request,'exercises.html',params)"
   ]
  }
 ],
 "metadata": {
  "kernelspec": {
   "display_name": "Python 3",
   "language": "python",
   "name": "python3"
  },
  "language_info": {
   "codemirror_mode": {
    "name": "ipython",
    "version": 3
   },
   "file_extension": ".py",
   "mimetype": "text/x-python",
   "name": "python",
   "nbconvert_exporter": "python",
   "pygments_lexer": "ipython3",
   "version": "3.11.4"
  },
  "orig_nbformat": 4
 },
 "nbformat": 4,
 "nbformat_minor": 2
}
